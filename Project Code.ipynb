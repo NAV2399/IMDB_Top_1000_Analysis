{
 "cells": [
  {
   "cell_type": "markdown",
   "metadata": {},
   "source": [
    "***Data Analysis Project for IMDB Dataset ***"
   ]
  },
  {
   "cell_type": "code",
   "execution_count": 154,
   "metadata": {},
   "outputs": [
    {
     "data": {
      "text/html": [
       "<div>\n",
       "<style scoped>\n",
       "    .dataframe tbody tr th:only-of-type {\n",
       "        vertical-align: middle;\n",
       "    }\n",
       "\n",
       "    .dataframe tbody tr th {\n",
       "        vertical-align: top;\n",
       "    }\n",
       "\n",
       "    .dataframe thead th {\n",
       "        text-align: right;\n",
       "    }\n",
       "</style>\n",
       "<table border=\"1\" class=\"dataframe\">\n",
       "  <thead>\n",
       "    <tr style=\"text-align: right;\">\n",
       "      <th></th>\n",
       "      <th>Poster_Link</th>\n",
       "      <th>Series_Title</th>\n",
       "      <th>Released_Year</th>\n",
       "      <th>Certificate</th>\n",
       "      <th>Runtime</th>\n",
       "      <th>Genre</th>\n",
       "      <th>IMDB_Rating</th>\n",
       "      <th>Overview</th>\n",
       "      <th>Meta_score</th>\n",
       "      <th>Director</th>\n",
       "      <th>Star1</th>\n",
       "      <th>Star2</th>\n",
       "      <th>Star3</th>\n",
       "      <th>Star4</th>\n",
       "      <th>No_of_Votes</th>\n",
       "      <th>Gross</th>\n",
       "    </tr>\n",
       "  </thead>\n",
       "  <tbody>\n",
       "    <tr>\n",
       "      <th>0</th>\n",
       "      <td>https://m.media-amazon.com/images/M/MV5BMDFkYT...</td>\n",
       "      <td>The Shawshank Redemption</td>\n",
       "      <td>1994</td>\n",
       "      <td>A</td>\n",
       "      <td>142 min</td>\n",
       "      <td>Drama</td>\n",
       "      <td>9.3</td>\n",
       "      <td>Two imprisoned men bond over a number of years...</td>\n",
       "      <td>80.0</td>\n",
       "      <td>Frank Darabont</td>\n",
       "      <td>Tim Robbins</td>\n",
       "      <td>Morgan Freeman</td>\n",
       "      <td>Bob Gunton</td>\n",
       "      <td>William Sadler</td>\n",
       "      <td>2343110</td>\n",
       "      <td>28,341,469</td>\n",
       "    </tr>\n",
       "    <tr>\n",
       "      <th>1</th>\n",
       "      <td>https://m.media-amazon.com/images/M/MV5BM2MyNj...</td>\n",
       "      <td>The Godfather</td>\n",
       "      <td>1972</td>\n",
       "      <td>A</td>\n",
       "      <td>175 min</td>\n",
       "      <td>Crime, Drama</td>\n",
       "      <td>9.2</td>\n",
       "      <td>An organized crime dynasty's aging patriarch t...</td>\n",
       "      <td>100.0</td>\n",
       "      <td>Francis Ford Coppola</td>\n",
       "      <td>Marlon Brando</td>\n",
       "      <td>Al Pacino</td>\n",
       "      <td>James Caan</td>\n",
       "      <td>Diane Keaton</td>\n",
       "      <td>1620367</td>\n",
       "      <td>134,966,411</td>\n",
       "    </tr>\n",
       "    <tr>\n",
       "      <th>2</th>\n",
       "      <td>https://m.media-amazon.com/images/M/MV5BMTMxNT...</td>\n",
       "      <td>The Dark Knight</td>\n",
       "      <td>2008</td>\n",
       "      <td>UA</td>\n",
       "      <td>152 min</td>\n",
       "      <td>Action, Crime, Drama</td>\n",
       "      <td>9.0</td>\n",
       "      <td>When the menace known as the Joker wreaks havo...</td>\n",
       "      <td>84.0</td>\n",
       "      <td>Christopher Nolan</td>\n",
       "      <td>Christian Bale</td>\n",
       "      <td>Heath Ledger</td>\n",
       "      <td>Aaron Eckhart</td>\n",
       "      <td>Michael Caine</td>\n",
       "      <td>2303232</td>\n",
       "      <td>534,858,444</td>\n",
       "    </tr>\n",
       "    <tr>\n",
       "      <th>3</th>\n",
       "      <td>https://m.media-amazon.com/images/M/MV5BMWMwMG...</td>\n",
       "      <td>The Godfather: Part II</td>\n",
       "      <td>1974</td>\n",
       "      <td>A</td>\n",
       "      <td>202 min</td>\n",
       "      <td>Crime, Drama</td>\n",
       "      <td>9.0</td>\n",
       "      <td>The early life and career of Vito Corleone in ...</td>\n",
       "      <td>90.0</td>\n",
       "      <td>Francis Ford Coppola</td>\n",
       "      <td>Al Pacino</td>\n",
       "      <td>Robert De Niro</td>\n",
       "      <td>Robert Duvall</td>\n",
       "      <td>Diane Keaton</td>\n",
       "      <td>1129952</td>\n",
       "      <td>57,300,000</td>\n",
       "    </tr>\n",
       "    <tr>\n",
       "      <th>4</th>\n",
       "      <td>https://m.media-amazon.com/images/M/MV5BMWU4N2...</td>\n",
       "      <td>12 Angry Men</td>\n",
       "      <td>1957</td>\n",
       "      <td>U</td>\n",
       "      <td>96 min</td>\n",
       "      <td>Crime, Drama</td>\n",
       "      <td>9.0</td>\n",
       "      <td>A jury holdout attempts to prevent a miscarria...</td>\n",
       "      <td>96.0</td>\n",
       "      <td>Sidney Lumet</td>\n",
       "      <td>Henry Fonda</td>\n",
       "      <td>Lee J. Cobb</td>\n",
       "      <td>Martin Balsam</td>\n",
       "      <td>John Fiedler</td>\n",
       "      <td>689845</td>\n",
       "      <td>4,360,000</td>\n",
       "    </tr>\n",
       "    <tr>\n",
       "      <th>5</th>\n",
       "      <td>https://m.media-amazon.com/images/M/MV5BNzA5ZD...</td>\n",
       "      <td>The Lord of the Rings: The Return of the King</td>\n",
       "      <td>2003</td>\n",
       "      <td>U</td>\n",
       "      <td>201 min</td>\n",
       "      <td>Action, Adventure, Drama</td>\n",
       "      <td>8.9</td>\n",
       "      <td>Gandalf and Aragorn lead the World of Men agai...</td>\n",
       "      <td>94.0</td>\n",
       "      <td>Peter Jackson</td>\n",
       "      <td>Elijah Wood</td>\n",
       "      <td>Viggo Mortensen</td>\n",
       "      <td>Ian McKellen</td>\n",
       "      <td>Orlando Bloom</td>\n",
       "      <td>1642758</td>\n",
       "      <td>377,845,905</td>\n",
       "    </tr>\n",
       "    <tr>\n",
       "      <th>6</th>\n",
       "      <td>https://m.media-amazon.com/images/M/MV5BNGNhMD...</td>\n",
       "      <td>Pulp Fiction</td>\n",
       "      <td>1994</td>\n",
       "      <td>A</td>\n",
       "      <td>154 min</td>\n",
       "      <td>Crime, Drama</td>\n",
       "      <td>8.9</td>\n",
       "      <td>The lives of two mob hitmen, a boxer, a gangst...</td>\n",
       "      <td>94.0</td>\n",
       "      <td>Quentin Tarantino</td>\n",
       "      <td>John Travolta</td>\n",
       "      <td>Uma Thurman</td>\n",
       "      <td>Samuel L. Jackson</td>\n",
       "      <td>Bruce Willis</td>\n",
       "      <td>1826188</td>\n",
       "      <td>107,928,762</td>\n",
       "    </tr>\n",
       "    <tr>\n",
       "      <th>7</th>\n",
       "      <td>https://m.media-amazon.com/images/M/MV5BNDE4OT...</td>\n",
       "      <td>Schindler's List</td>\n",
       "      <td>1993</td>\n",
       "      <td>A</td>\n",
       "      <td>195 min</td>\n",
       "      <td>Biography, Drama, History</td>\n",
       "      <td>8.9</td>\n",
       "      <td>In German-occupied Poland during World War II,...</td>\n",
       "      <td>94.0</td>\n",
       "      <td>Steven Spielberg</td>\n",
       "      <td>Liam Neeson</td>\n",
       "      <td>Ralph Fiennes</td>\n",
       "      <td>Ben Kingsley</td>\n",
       "      <td>Caroline Goodall</td>\n",
       "      <td>1213505</td>\n",
       "      <td>96,898,818</td>\n",
       "    </tr>\n",
       "    <tr>\n",
       "      <th>8</th>\n",
       "      <td>https://m.media-amazon.com/images/M/MV5BMjAxMz...</td>\n",
       "      <td>Inception</td>\n",
       "      <td>2010</td>\n",
       "      <td>UA</td>\n",
       "      <td>148 min</td>\n",
       "      <td>Action, Adventure, Sci-Fi</td>\n",
       "      <td>8.8</td>\n",
       "      <td>A thief who steals corporate secrets through t...</td>\n",
       "      <td>74.0</td>\n",
       "      <td>Christopher Nolan</td>\n",
       "      <td>Leonardo DiCaprio</td>\n",
       "      <td>Joseph Gordon-Levitt</td>\n",
       "      <td>Elliot Page</td>\n",
       "      <td>Ken Watanabe</td>\n",
       "      <td>2067042</td>\n",
       "      <td>292,576,195</td>\n",
       "    </tr>\n",
       "    <tr>\n",
       "      <th>9</th>\n",
       "      <td>https://m.media-amazon.com/images/M/MV5BMmEzNT...</td>\n",
       "      <td>Fight Club</td>\n",
       "      <td>1999</td>\n",
       "      <td>A</td>\n",
       "      <td>139 min</td>\n",
       "      <td>Drama</td>\n",
       "      <td>8.8</td>\n",
       "      <td>An insomniac office worker and a devil-may-car...</td>\n",
       "      <td>66.0</td>\n",
       "      <td>David Fincher</td>\n",
       "      <td>Brad Pitt</td>\n",
       "      <td>Edward Norton</td>\n",
       "      <td>Meat Loaf</td>\n",
       "      <td>Zach Grenier</td>\n",
       "      <td>1854740</td>\n",
       "      <td>37,030,102</td>\n",
       "    </tr>\n",
       "    <tr>\n",
       "      <th>10</th>\n",
       "      <td>https://m.media-amazon.com/images/M/MV5BN2EyZj...</td>\n",
       "      <td>The Lord of the Rings: The Fellowship of the Ring</td>\n",
       "      <td>2001</td>\n",
       "      <td>U</td>\n",
       "      <td>178 min</td>\n",
       "      <td>Action, Adventure, Drama</td>\n",
       "      <td>8.8</td>\n",
       "      <td>A meek Hobbit from the Shire and eight compani...</td>\n",
       "      <td>92.0</td>\n",
       "      <td>Peter Jackson</td>\n",
       "      <td>Elijah Wood</td>\n",
       "      <td>Ian McKellen</td>\n",
       "      <td>Orlando Bloom</td>\n",
       "      <td>Sean Bean</td>\n",
       "      <td>1661481</td>\n",
       "      <td>315,544,750</td>\n",
       "    </tr>\n",
       "  </tbody>\n",
       "</table>\n",
       "</div>"
      ],
      "text/plain": [
       "                                          Poster_Link  \\\n",
       "0   https://m.media-amazon.com/images/M/MV5BMDFkYT...   \n",
       "1   https://m.media-amazon.com/images/M/MV5BM2MyNj...   \n",
       "2   https://m.media-amazon.com/images/M/MV5BMTMxNT...   \n",
       "3   https://m.media-amazon.com/images/M/MV5BMWMwMG...   \n",
       "4   https://m.media-amazon.com/images/M/MV5BMWU4N2...   \n",
       "5   https://m.media-amazon.com/images/M/MV5BNzA5ZD...   \n",
       "6   https://m.media-amazon.com/images/M/MV5BNGNhMD...   \n",
       "7   https://m.media-amazon.com/images/M/MV5BNDE4OT...   \n",
       "8   https://m.media-amazon.com/images/M/MV5BMjAxMz...   \n",
       "9   https://m.media-amazon.com/images/M/MV5BMmEzNT...   \n",
       "10  https://m.media-amazon.com/images/M/MV5BN2EyZj...   \n",
       "\n",
       "                                         Series_Title Released_Year  \\\n",
       "0                            The Shawshank Redemption          1994   \n",
       "1                                       The Godfather          1972   \n",
       "2                                     The Dark Knight          2008   \n",
       "3                              The Godfather: Part II          1974   \n",
       "4                                        12 Angry Men          1957   \n",
       "5       The Lord of the Rings: The Return of the King          2003   \n",
       "6                                        Pulp Fiction          1994   \n",
       "7                                    Schindler's List          1993   \n",
       "8                                           Inception          2010   \n",
       "9                                          Fight Club          1999   \n",
       "10  The Lord of the Rings: The Fellowship of the Ring          2001   \n",
       "\n",
       "   Certificate  Runtime                      Genre  IMDB_Rating  \\\n",
       "0            A  142 min                      Drama          9.3   \n",
       "1            A  175 min               Crime, Drama          9.2   \n",
       "2           UA  152 min       Action, Crime, Drama          9.0   \n",
       "3            A  202 min               Crime, Drama          9.0   \n",
       "4            U   96 min               Crime, Drama          9.0   \n",
       "5            U  201 min   Action, Adventure, Drama          8.9   \n",
       "6            A  154 min               Crime, Drama          8.9   \n",
       "7            A  195 min  Biography, Drama, History          8.9   \n",
       "8           UA  148 min  Action, Adventure, Sci-Fi          8.8   \n",
       "9            A  139 min                      Drama          8.8   \n",
       "10           U  178 min   Action, Adventure, Drama          8.8   \n",
       "\n",
       "                                             Overview  Meta_score  \\\n",
       "0   Two imprisoned men bond over a number of years...        80.0   \n",
       "1   An organized crime dynasty's aging patriarch t...       100.0   \n",
       "2   When the menace known as the Joker wreaks havo...        84.0   \n",
       "3   The early life and career of Vito Corleone in ...        90.0   \n",
       "4   A jury holdout attempts to prevent a miscarria...        96.0   \n",
       "5   Gandalf and Aragorn lead the World of Men agai...        94.0   \n",
       "6   The lives of two mob hitmen, a boxer, a gangst...        94.0   \n",
       "7   In German-occupied Poland during World War II,...        94.0   \n",
       "8   A thief who steals corporate secrets through t...        74.0   \n",
       "9   An insomniac office worker and a devil-may-car...        66.0   \n",
       "10  A meek Hobbit from the Shire and eight compani...        92.0   \n",
       "\n",
       "                Director              Star1                 Star2  \\\n",
       "0         Frank Darabont        Tim Robbins        Morgan Freeman   \n",
       "1   Francis Ford Coppola      Marlon Brando             Al Pacino   \n",
       "2      Christopher Nolan     Christian Bale          Heath Ledger   \n",
       "3   Francis Ford Coppola          Al Pacino        Robert De Niro   \n",
       "4           Sidney Lumet        Henry Fonda           Lee J. Cobb   \n",
       "5          Peter Jackson        Elijah Wood       Viggo Mortensen   \n",
       "6      Quentin Tarantino      John Travolta           Uma Thurman   \n",
       "7       Steven Spielberg        Liam Neeson         Ralph Fiennes   \n",
       "8      Christopher Nolan  Leonardo DiCaprio  Joseph Gordon-Levitt   \n",
       "9          David Fincher          Brad Pitt         Edward Norton   \n",
       "10         Peter Jackson        Elijah Wood          Ian McKellen   \n",
       "\n",
       "                Star3             Star4  No_of_Votes        Gross  \n",
       "0          Bob Gunton    William Sadler      2343110   28,341,469  \n",
       "1          James Caan      Diane Keaton      1620367  134,966,411  \n",
       "2       Aaron Eckhart     Michael Caine      2303232  534,858,444  \n",
       "3       Robert Duvall      Diane Keaton      1129952   57,300,000  \n",
       "4       Martin Balsam      John Fiedler       689845    4,360,000  \n",
       "5        Ian McKellen     Orlando Bloom      1642758  377,845,905  \n",
       "6   Samuel L. Jackson      Bruce Willis      1826188  107,928,762  \n",
       "7        Ben Kingsley  Caroline Goodall      1213505   96,898,818  \n",
       "8         Elliot Page      Ken Watanabe      2067042  292,576,195  \n",
       "9           Meat Loaf      Zach Grenier      1854740   37,030,102  \n",
       "10      Orlando Bloom         Sean Bean      1661481  315,544,750  "
      ]
     },
     "metadata": {},
     "output_type": "display_data"
    }
   ],
   "source": [
    "#Importing required libraries\n",
    "\n",
    "\n",
    "import pandas as pd\n",
    "import numpy as np\n",
    "import matplotlib.pyplot as plt\n",
    "import seaborn as sns\n",
    "import plotly.express as px\n",
    "from IPython.display import display\n",
    "\n",
    "\n",
    "df = pd.read_csv(\"E:\\OneDrive\\Desktop\\MovieRatingsAnalysis\\Data\\imdb_top_1000.csv\")\n",
    "display(df.head(11))\n",
    "\n"
   ]
  },
  {
   "cell_type": "markdown",
   "metadata": {},
   "source": [
    "Step :2\n",
    "\n",
    "\n",
    "Data Cleaning\n",
    "\n"
   ]
  },
  {
   "cell_type": "code",
   "execution_count": 155,
   "metadata": {},
   "outputs": [
    {
     "name": "stdout",
     "output_type": "stream",
     "text": [
      "Poster_Link        0\n",
      "Series_Title       0\n",
      "Released_Year      0\n",
      "Certificate      101\n",
      "Runtime            0\n",
      "Genre              0\n",
      "IMDB_Rating        0\n",
      "Overview           0\n",
      "Meta_score       157\n",
      "Director           0\n",
      "Star1              0\n",
      "Star2              0\n",
      "Star3              0\n",
      "Star4              0\n",
      "No_of_Votes        0\n",
      "Gross            169\n",
      "dtype: int64\n"
     ]
    }
   ],
   "source": [
    "# Check missing values\n",
    "print(df.isnull().sum())"
   ]
  },
  {
   "cell_type": "markdown",
   "metadata": {},
   "source": [
    "Data Cleaning : Column Cleaning and Handling Missing Values\n",
    "\n",
    "\n",
    "       1. Runtime: Converting \"142 min\" → 142 (integer).\n",
    "\n",
    "       2. Gross: Converting \"$28,341,469\" → 28341469 (float).\n",
    "\n",
    "       3. Replacing missing gross value with 0\n",
    "\n",
    "       4. Replacing missing value in Certificate with \"NR\" Means Not reported for Critical analysis\n",
    "\n",
    "       5. Dropping rows of missing meta _score for critical analysis"
   ]
  },
  {
   "cell_type": "code",
   "execution_count": 156,
   "metadata": {},
   "outputs": [
    {
     "data": {
      "text/html": [
       "<div>\n",
       "<style scoped>\n",
       "    .dataframe tbody tr th:only-of-type {\n",
       "        vertical-align: middle;\n",
       "    }\n",
       "\n",
       "    .dataframe tbody tr th {\n",
       "        vertical-align: top;\n",
       "    }\n",
       "\n",
       "    .dataframe thead th {\n",
       "        text-align: right;\n",
       "    }\n",
       "</style>\n",
       "<table border=\"1\" class=\"dataframe\">\n",
       "  <thead>\n",
       "    <tr style=\"text-align: right;\">\n",
       "      <th></th>\n",
       "      <th>Poster_Link</th>\n",
       "      <th>Series_Title</th>\n",
       "      <th>Released_Year</th>\n",
       "      <th>Certificate</th>\n",
       "      <th>Runtime</th>\n",
       "      <th>Genre</th>\n",
       "      <th>IMDB_Rating</th>\n",
       "      <th>Overview</th>\n",
       "      <th>Meta_score</th>\n",
       "      <th>Director</th>\n",
       "      <th>Star1</th>\n",
       "      <th>Star2</th>\n",
       "      <th>Star3</th>\n",
       "      <th>Star4</th>\n",
       "      <th>No_of_Votes</th>\n",
       "      <th>Gross</th>\n",
       "    </tr>\n",
       "  </thead>\n",
       "  <tbody>\n",
       "    <tr>\n",
       "      <th>0</th>\n",
       "      <td>https://m.media-amazon.com/images/M/MV5BMDFkYT...</td>\n",
       "      <td>The Shawshank Redemption</td>\n",
       "      <td>1994</td>\n",
       "      <td>A</td>\n",
       "      <td>142</td>\n",
       "      <td>Drama</td>\n",
       "      <td>9.3</td>\n",
       "      <td>Two imprisoned men bond over a number of years...</td>\n",
       "      <td>80.0</td>\n",
       "      <td>Frank Darabont</td>\n",
       "      <td>Tim Robbins</td>\n",
       "      <td>Morgan Freeman</td>\n",
       "      <td>Bob Gunton</td>\n",
       "      <td>William Sadler</td>\n",
       "      <td>2343110</td>\n",
       "      <td>28341469.0</td>\n",
       "    </tr>\n",
       "    <tr>\n",
       "      <th>1</th>\n",
       "      <td>https://m.media-amazon.com/images/M/MV5BM2MyNj...</td>\n",
       "      <td>The Godfather</td>\n",
       "      <td>1972</td>\n",
       "      <td>A</td>\n",
       "      <td>175</td>\n",
       "      <td>Crime, Drama</td>\n",
       "      <td>9.2</td>\n",
       "      <td>An organized crime dynasty's aging patriarch t...</td>\n",
       "      <td>100.0</td>\n",
       "      <td>Francis Ford Coppola</td>\n",
       "      <td>Marlon Brando</td>\n",
       "      <td>Al Pacino</td>\n",
       "      <td>James Caan</td>\n",
       "      <td>Diane Keaton</td>\n",
       "      <td>1620367</td>\n",
       "      <td>134966411.0</td>\n",
       "    </tr>\n",
       "    <tr>\n",
       "      <th>2</th>\n",
       "      <td>https://m.media-amazon.com/images/M/MV5BMTMxNT...</td>\n",
       "      <td>The Dark Knight</td>\n",
       "      <td>2008</td>\n",
       "      <td>UA</td>\n",
       "      <td>152</td>\n",
       "      <td>Action, Crime, Drama</td>\n",
       "      <td>9.0</td>\n",
       "      <td>When the menace known as the Joker wreaks havo...</td>\n",
       "      <td>84.0</td>\n",
       "      <td>Christopher Nolan</td>\n",
       "      <td>Christian Bale</td>\n",
       "      <td>Heath Ledger</td>\n",
       "      <td>Aaron Eckhart</td>\n",
       "      <td>Michael Caine</td>\n",
       "      <td>2303232</td>\n",
       "      <td>534858444.0</td>\n",
       "    </tr>\n",
       "    <tr>\n",
       "      <th>3</th>\n",
       "      <td>https://m.media-amazon.com/images/M/MV5BMWMwMG...</td>\n",
       "      <td>The Godfather: Part II</td>\n",
       "      <td>1974</td>\n",
       "      <td>A</td>\n",
       "      <td>202</td>\n",
       "      <td>Crime, Drama</td>\n",
       "      <td>9.0</td>\n",
       "      <td>The early life and career of Vito Corleone in ...</td>\n",
       "      <td>90.0</td>\n",
       "      <td>Francis Ford Coppola</td>\n",
       "      <td>Al Pacino</td>\n",
       "      <td>Robert De Niro</td>\n",
       "      <td>Robert Duvall</td>\n",
       "      <td>Diane Keaton</td>\n",
       "      <td>1129952</td>\n",
       "      <td>57300000.0</td>\n",
       "    </tr>\n",
       "    <tr>\n",
       "      <th>4</th>\n",
       "      <td>https://m.media-amazon.com/images/M/MV5BMWU4N2...</td>\n",
       "      <td>12 Angry Men</td>\n",
       "      <td>1957</td>\n",
       "      <td>U</td>\n",
       "      <td>96</td>\n",
       "      <td>Crime, Drama</td>\n",
       "      <td>9.0</td>\n",
       "      <td>A jury holdout attempts to prevent a miscarria...</td>\n",
       "      <td>96.0</td>\n",
       "      <td>Sidney Lumet</td>\n",
       "      <td>Henry Fonda</td>\n",
       "      <td>Lee J. Cobb</td>\n",
       "      <td>Martin Balsam</td>\n",
       "      <td>John Fiedler</td>\n",
       "      <td>689845</td>\n",
       "      <td>4360000.0</td>\n",
       "    </tr>\n",
       "    <tr>\n",
       "      <th>5</th>\n",
       "      <td>https://m.media-amazon.com/images/M/MV5BNzA5ZD...</td>\n",
       "      <td>The Lord of the Rings: The Return of the King</td>\n",
       "      <td>2003</td>\n",
       "      <td>U</td>\n",
       "      <td>201</td>\n",
       "      <td>Action, Adventure, Drama</td>\n",
       "      <td>8.9</td>\n",
       "      <td>Gandalf and Aragorn lead the World of Men agai...</td>\n",
       "      <td>94.0</td>\n",
       "      <td>Peter Jackson</td>\n",
       "      <td>Elijah Wood</td>\n",
       "      <td>Viggo Mortensen</td>\n",
       "      <td>Ian McKellen</td>\n",
       "      <td>Orlando Bloom</td>\n",
       "      <td>1642758</td>\n",
       "      <td>377845905.0</td>\n",
       "    </tr>\n",
       "    <tr>\n",
       "      <th>6</th>\n",
       "      <td>https://m.media-amazon.com/images/M/MV5BNGNhMD...</td>\n",
       "      <td>Pulp Fiction</td>\n",
       "      <td>1994</td>\n",
       "      <td>A</td>\n",
       "      <td>154</td>\n",
       "      <td>Crime, Drama</td>\n",
       "      <td>8.9</td>\n",
       "      <td>The lives of two mob hitmen, a boxer, a gangst...</td>\n",
       "      <td>94.0</td>\n",
       "      <td>Quentin Tarantino</td>\n",
       "      <td>John Travolta</td>\n",
       "      <td>Uma Thurman</td>\n",
       "      <td>Samuel L. Jackson</td>\n",
       "      <td>Bruce Willis</td>\n",
       "      <td>1826188</td>\n",
       "      <td>107928762.0</td>\n",
       "    </tr>\n",
       "    <tr>\n",
       "      <th>7</th>\n",
       "      <td>https://m.media-amazon.com/images/M/MV5BNDE4OT...</td>\n",
       "      <td>Schindler's List</td>\n",
       "      <td>1993</td>\n",
       "      <td>A</td>\n",
       "      <td>195</td>\n",
       "      <td>Biography, Drama, History</td>\n",
       "      <td>8.9</td>\n",
       "      <td>In German-occupied Poland during World War II,...</td>\n",
       "      <td>94.0</td>\n",
       "      <td>Steven Spielberg</td>\n",
       "      <td>Liam Neeson</td>\n",
       "      <td>Ralph Fiennes</td>\n",
       "      <td>Ben Kingsley</td>\n",
       "      <td>Caroline Goodall</td>\n",
       "      <td>1213505</td>\n",
       "      <td>96898818.0</td>\n",
       "    </tr>\n",
       "    <tr>\n",
       "      <th>8</th>\n",
       "      <td>https://m.media-amazon.com/images/M/MV5BMjAxMz...</td>\n",
       "      <td>Inception</td>\n",
       "      <td>2010</td>\n",
       "      <td>UA</td>\n",
       "      <td>148</td>\n",
       "      <td>Action, Adventure, Sci-Fi</td>\n",
       "      <td>8.8</td>\n",
       "      <td>A thief who steals corporate secrets through t...</td>\n",
       "      <td>74.0</td>\n",
       "      <td>Christopher Nolan</td>\n",
       "      <td>Leonardo DiCaprio</td>\n",
       "      <td>Joseph Gordon-Levitt</td>\n",
       "      <td>Elliot Page</td>\n",
       "      <td>Ken Watanabe</td>\n",
       "      <td>2067042</td>\n",
       "      <td>292576195.0</td>\n",
       "    </tr>\n",
       "    <tr>\n",
       "      <th>9</th>\n",
       "      <td>https://m.media-amazon.com/images/M/MV5BMmEzNT...</td>\n",
       "      <td>Fight Club</td>\n",
       "      <td>1999</td>\n",
       "      <td>A</td>\n",
       "      <td>139</td>\n",
       "      <td>Drama</td>\n",
       "      <td>8.8</td>\n",
       "      <td>An insomniac office worker and a devil-may-car...</td>\n",
       "      <td>66.0</td>\n",
       "      <td>David Fincher</td>\n",
       "      <td>Brad Pitt</td>\n",
       "      <td>Edward Norton</td>\n",
       "      <td>Meat Loaf</td>\n",
       "      <td>Zach Grenier</td>\n",
       "      <td>1854740</td>\n",
       "      <td>37030102.0</td>\n",
       "    </tr>\n",
       "    <tr>\n",
       "      <th>10</th>\n",
       "      <td>https://m.media-amazon.com/images/M/MV5BN2EyZj...</td>\n",
       "      <td>The Lord of the Rings: The Fellowship of the Ring</td>\n",
       "      <td>2001</td>\n",
       "      <td>U</td>\n",
       "      <td>178</td>\n",
       "      <td>Action, Adventure, Drama</td>\n",
       "      <td>8.8</td>\n",
       "      <td>A meek Hobbit from the Shire and eight compani...</td>\n",
       "      <td>92.0</td>\n",
       "      <td>Peter Jackson</td>\n",
       "      <td>Elijah Wood</td>\n",
       "      <td>Ian McKellen</td>\n",
       "      <td>Orlando Bloom</td>\n",
       "      <td>Sean Bean</td>\n",
       "      <td>1661481</td>\n",
       "      <td>315544750.0</td>\n",
       "    </tr>\n",
       "    <tr>\n",
       "      <th>11</th>\n",
       "      <td>https://m.media-amazon.com/images/M/MV5BNWIwOD...</td>\n",
       "      <td>Forrest Gump</td>\n",
       "      <td>1994</td>\n",
       "      <td>UA</td>\n",
       "      <td>142</td>\n",
       "      <td>Drama, Romance</td>\n",
       "      <td>8.8</td>\n",
       "      <td>The presidencies of Kennedy and Johnson, the e...</td>\n",
       "      <td>82.0</td>\n",
       "      <td>Robert Zemeckis</td>\n",
       "      <td>Tom Hanks</td>\n",
       "      <td>Robin Wright</td>\n",
       "      <td>Gary Sinise</td>\n",
       "      <td>Sally Field</td>\n",
       "      <td>1809221</td>\n",
       "      <td>330252182.0</td>\n",
       "    </tr>\n",
       "    <tr>\n",
       "      <th>12</th>\n",
       "      <td>https://m.media-amazon.com/images/M/MV5BOTQ5ND...</td>\n",
       "      <td>Il buono, il brutto, il cattivo</td>\n",
       "      <td>1966</td>\n",
       "      <td>A</td>\n",
       "      <td>161</td>\n",
       "      <td>Western</td>\n",
       "      <td>8.8</td>\n",
       "      <td>A bounty hunting scam joins two men in an unea...</td>\n",
       "      <td>90.0</td>\n",
       "      <td>Sergio Leone</td>\n",
       "      <td>Clint Eastwood</td>\n",
       "      <td>Eli Wallach</td>\n",
       "      <td>Lee Van Cleef</td>\n",
       "      <td>Aldo Giuffrè</td>\n",
       "      <td>688390</td>\n",
       "      <td>6100000.0</td>\n",
       "    </tr>\n",
       "    <tr>\n",
       "      <th>13</th>\n",
       "      <td>https://m.media-amazon.com/images/M/MV5BZGMxZT...</td>\n",
       "      <td>The Lord of the Rings: The Two Towers</td>\n",
       "      <td>2002</td>\n",
       "      <td>UA</td>\n",
       "      <td>179</td>\n",
       "      <td>Action, Adventure, Drama</td>\n",
       "      <td>8.7</td>\n",
       "      <td>While Frodo and Sam edge closer to Mordor with...</td>\n",
       "      <td>87.0</td>\n",
       "      <td>Peter Jackson</td>\n",
       "      <td>Elijah Wood</td>\n",
       "      <td>Ian McKellen</td>\n",
       "      <td>Viggo Mortensen</td>\n",
       "      <td>Orlando Bloom</td>\n",
       "      <td>1485555</td>\n",
       "      <td>342551365.0</td>\n",
       "    </tr>\n",
       "    <tr>\n",
       "      <th>14</th>\n",
       "      <td>https://m.media-amazon.com/images/M/MV5BNzQzOT...</td>\n",
       "      <td>The Matrix</td>\n",
       "      <td>1999</td>\n",
       "      <td>A</td>\n",
       "      <td>136</td>\n",
       "      <td>Action, Sci-Fi</td>\n",
       "      <td>8.7</td>\n",
       "      <td>When a beautiful stranger leads computer hacke...</td>\n",
       "      <td>73.0</td>\n",
       "      <td>Lana Wachowski</td>\n",
       "      <td>Lilly Wachowski</td>\n",
       "      <td>Keanu Reeves</td>\n",
       "      <td>Laurence Fishburne</td>\n",
       "      <td>Carrie-Anne Moss</td>\n",
       "      <td>1676426</td>\n",
       "      <td>171479930.0</td>\n",
       "    </tr>\n",
       "    <tr>\n",
       "      <th>15</th>\n",
       "      <td>https://m.media-amazon.com/images/M/MV5BY2NkZj...</td>\n",
       "      <td>Goodfellas</td>\n",
       "      <td>1990</td>\n",
       "      <td>A</td>\n",
       "      <td>146</td>\n",
       "      <td>Biography, Crime, Drama</td>\n",
       "      <td>8.7</td>\n",
       "      <td>The story of Henry Hill and his life in the mo...</td>\n",
       "      <td>90.0</td>\n",
       "      <td>Martin Scorsese</td>\n",
       "      <td>Robert De Niro</td>\n",
       "      <td>Ray Liotta</td>\n",
       "      <td>Joe Pesci</td>\n",
       "      <td>Lorraine Bracco</td>\n",
       "      <td>1020727</td>\n",
       "      <td>46836394.0</td>\n",
       "    </tr>\n",
       "    <tr>\n",
       "      <th>16</th>\n",
       "      <td>https://m.media-amazon.com/images/M/MV5BYmU1ND...</td>\n",
       "      <td>Star Wars: Episode V - The Empire Strikes Back</td>\n",
       "      <td>1980</td>\n",
       "      <td>UA</td>\n",
       "      <td>124</td>\n",
       "      <td>Action, Adventure, Fantasy</td>\n",
       "      <td>8.7</td>\n",
       "      <td>After the Rebels are brutally overpowered by t...</td>\n",
       "      <td>82.0</td>\n",
       "      <td>Irvin Kershner</td>\n",
       "      <td>Mark Hamill</td>\n",
       "      <td>Harrison Ford</td>\n",
       "      <td>Carrie Fisher</td>\n",
       "      <td>Billy Dee Williams</td>\n",
       "      <td>1159315</td>\n",
       "      <td>290475067.0</td>\n",
       "    </tr>\n",
       "    <tr>\n",
       "      <th>17</th>\n",
       "      <td>https://m.media-amazon.com/images/M/MV5BZjA0OW...</td>\n",
       "      <td>One Flew Over the Cuckoo's Nest</td>\n",
       "      <td>1975</td>\n",
       "      <td>A</td>\n",
       "      <td>133</td>\n",
       "      <td>Drama</td>\n",
       "      <td>8.7</td>\n",
       "      <td>A criminal pleads insanity and is admitted to ...</td>\n",
       "      <td>83.0</td>\n",
       "      <td>Milos Forman</td>\n",
       "      <td>Jack Nicholson</td>\n",
       "      <td>Louise Fletcher</td>\n",
       "      <td>Michael Berryman</td>\n",
       "      <td>Peter Brocco</td>\n",
       "      <td>918088</td>\n",
       "      <td>112000000.0</td>\n",
       "    </tr>\n",
       "    <tr>\n",
       "      <th>18</th>\n",
       "      <td>https://m.media-amazon.com/images/M/MV5BNjViNW...</td>\n",
       "      <td>Hamilton</td>\n",
       "      <td>2020</td>\n",
       "      <td>PG-13</td>\n",
       "      <td>160</td>\n",
       "      <td>Biography, Drama, History</td>\n",
       "      <td>8.6</td>\n",
       "      <td>The real life of one of America's foremost fou...</td>\n",
       "      <td>90.0</td>\n",
       "      <td>Thomas Kail</td>\n",
       "      <td>Lin-Manuel Miranda</td>\n",
       "      <td>Phillipa Soo</td>\n",
       "      <td>Leslie Odom Jr.</td>\n",
       "      <td>Renée Elise Goldsberry</td>\n",
       "      <td>55291</td>\n",
       "      <td>0.0</td>\n",
       "    </tr>\n",
       "    <tr>\n",
       "      <th>19</th>\n",
       "      <td>https://m.media-amazon.com/images/M/MV5BYWZjMj...</td>\n",
       "      <td>Gisaengchung</td>\n",
       "      <td>2019</td>\n",
       "      <td>A</td>\n",
       "      <td>132</td>\n",
       "      <td>Comedy, Drama, Thriller</td>\n",
       "      <td>8.6</td>\n",
       "      <td>Greed and class discrimination threaten the ne...</td>\n",
       "      <td>96.0</td>\n",
       "      <td>Bong Joon Ho</td>\n",
       "      <td>Kang-ho Song</td>\n",
       "      <td>Lee Sun-kyun</td>\n",
       "      <td>Cho Yeo-jeong</td>\n",
       "      <td>Choi Woo-sik</td>\n",
       "      <td>552778</td>\n",
       "      <td>53367844.0</td>\n",
       "    </tr>\n",
       "  </tbody>\n",
       "</table>\n",
       "</div>"
      ],
      "text/plain": [
       "                                          Poster_Link  \\\n",
       "0   https://m.media-amazon.com/images/M/MV5BMDFkYT...   \n",
       "1   https://m.media-amazon.com/images/M/MV5BM2MyNj...   \n",
       "2   https://m.media-amazon.com/images/M/MV5BMTMxNT...   \n",
       "3   https://m.media-amazon.com/images/M/MV5BMWMwMG...   \n",
       "4   https://m.media-amazon.com/images/M/MV5BMWU4N2...   \n",
       "5   https://m.media-amazon.com/images/M/MV5BNzA5ZD...   \n",
       "6   https://m.media-amazon.com/images/M/MV5BNGNhMD...   \n",
       "7   https://m.media-amazon.com/images/M/MV5BNDE4OT...   \n",
       "8   https://m.media-amazon.com/images/M/MV5BMjAxMz...   \n",
       "9   https://m.media-amazon.com/images/M/MV5BMmEzNT...   \n",
       "10  https://m.media-amazon.com/images/M/MV5BN2EyZj...   \n",
       "11  https://m.media-amazon.com/images/M/MV5BNWIwOD...   \n",
       "12  https://m.media-amazon.com/images/M/MV5BOTQ5ND...   \n",
       "13  https://m.media-amazon.com/images/M/MV5BZGMxZT...   \n",
       "14  https://m.media-amazon.com/images/M/MV5BNzQzOT...   \n",
       "15  https://m.media-amazon.com/images/M/MV5BY2NkZj...   \n",
       "16  https://m.media-amazon.com/images/M/MV5BYmU1ND...   \n",
       "17  https://m.media-amazon.com/images/M/MV5BZjA0OW...   \n",
       "18  https://m.media-amazon.com/images/M/MV5BNjViNW...   \n",
       "19  https://m.media-amazon.com/images/M/MV5BYWZjMj...   \n",
       "\n",
       "                                         Series_Title Released_Year  \\\n",
       "0                            The Shawshank Redemption          1994   \n",
       "1                                       The Godfather          1972   \n",
       "2                                     The Dark Knight          2008   \n",
       "3                              The Godfather: Part II          1974   \n",
       "4                                        12 Angry Men          1957   \n",
       "5       The Lord of the Rings: The Return of the King          2003   \n",
       "6                                        Pulp Fiction          1994   \n",
       "7                                    Schindler's List          1993   \n",
       "8                                           Inception          2010   \n",
       "9                                          Fight Club          1999   \n",
       "10  The Lord of the Rings: The Fellowship of the Ring          2001   \n",
       "11                                       Forrest Gump          1994   \n",
       "12                    Il buono, il brutto, il cattivo          1966   \n",
       "13              The Lord of the Rings: The Two Towers          2002   \n",
       "14                                         The Matrix          1999   \n",
       "15                                         Goodfellas          1990   \n",
       "16     Star Wars: Episode V - The Empire Strikes Back          1980   \n",
       "17                    One Flew Over the Cuckoo's Nest          1975   \n",
       "18                                           Hamilton          2020   \n",
       "19                                       Gisaengchung          2019   \n",
       "\n",
       "   Certificate  Runtime                       Genre  IMDB_Rating  \\\n",
       "0            A      142                       Drama          9.3   \n",
       "1            A      175                Crime, Drama          9.2   \n",
       "2           UA      152        Action, Crime, Drama          9.0   \n",
       "3            A      202                Crime, Drama          9.0   \n",
       "4            U       96                Crime, Drama          9.0   \n",
       "5            U      201    Action, Adventure, Drama          8.9   \n",
       "6            A      154                Crime, Drama          8.9   \n",
       "7            A      195   Biography, Drama, History          8.9   \n",
       "8           UA      148   Action, Adventure, Sci-Fi          8.8   \n",
       "9            A      139                       Drama          8.8   \n",
       "10           U      178    Action, Adventure, Drama          8.8   \n",
       "11          UA      142              Drama, Romance          8.8   \n",
       "12           A      161                     Western          8.8   \n",
       "13          UA      179    Action, Adventure, Drama          8.7   \n",
       "14           A      136              Action, Sci-Fi          8.7   \n",
       "15           A      146     Biography, Crime, Drama          8.7   \n",
       "16          UA      124  Action, Adventure, Fantasy          8.7   \n",
       "17           A      133                       Drama          8.7   \n",
       "18       PG-13      160   Biography, Drama, History          8.6   \n",
       "19           A      132     Comedy, Drama, Thriller          8.6   \n",
       "\n",
       "                                             Overview  Meta_score  \\\n",
       "0   Two imprisoned men bond over a number of years...        80.0   \n",
       "1   An organized crime dynasty's aging patriarch t...       100.0   \n",
       "2   When the menace known as the Joker wreaks havo...        84.0   \n",
       "3   The early life and career of Vito Corleone in ...        90.0   \n",
       "4   A jury holdout attempts to prevent a miscarria...        96.0   \n",
       "5   Gandalf and Aragorn lead the World of Men agai...        94.0   \n",
       "6   The lives of two mob hitmen, a boxer, a gangst...        94.0   \n",
       "7   In German-occupied Poland during World War II,...        94.0   \n",
       "8   A thief who steals corporate secrets through t...        74.0   \n",
       "9   An insomniac office worker and a devil-may-car...        66.0   \n",
       "10  A meek Hobbit from the Shire and eight compani...        92.0   \n",
       "11  The presidencies of Kennedy and Johnson, the e...        82.0   \n",
       "12  A bounty hunting scam joins two men in an unea...        90.0   \n",
       "13  While Frodo and Sam edge closer to Mordor with...        87.0   \n",
       "14  When a beautiful stranger leads computer hacke...        73.0   \n",
       "15  The story of Henry Hill and his life in the mo...        90.0   \n",
       "16  After the Rebels are brutally overpowered by t...        82.0   \n",
       "17  A criminal pleads insanity and is admitted to ...        83.0   \n",
       "18  The real life of one of America's foremost fou...        90.0   \n",
       "19  Greed and class discrimination threaten the ne...        96.0   \n",
       "\n",
       "                Director               Star1                 Star2  \\\n",
       "0         Frank Darabont         Tim Robbins        Morgan Freeman   \n",
       "1   Francis Ford Coppola       Marlon Brando             Al Pacino   \n",
       "2      Christopher Nolan      Christian Bale          Heath Ledger   \n",
       "3   Francis Ford Coppola           Al Pacino        Robert De Niro   \n",
       "4           Sidney Lumet         Henry Fonda           Lee J. Cobb   \n",
       "5          Peter Jackson         Elijah Wood       Viggo Mortensen   \n",
       "6      Quentin Tarantino       John Travolta           Uma Thurman   \n",
       "7       Steven Spielberg         Liam Neeson         Ralph Fiennes   \n",
       "8      Christopher Nolan   Leonardo DiCaprio  Joseph Gordon-Levitt   \n",
       "9          David Fincher           Brad Pitt         Edward Norton   \n",
       "10         Peter Jackson         Elijah Wood          Ian McKellen   \n",
       "11       Robert Zemeckis           Tom Hanks          Robin Wright   \n",
       "12          Sergio Leone      Clint Eastwood           Eli Wallach   \n",
       "13         Peter Jackson         Elijah Wood          Ian McKellen   \n",
       "14        Lana Wachowski     Lilly Wachowski          Keanu Reeves   \n",
       "15       Martin Scorsese      Robert De Niro            Ray Liotta   \n",
       "16        Irvin Kershner         Mark Hamill         Harrison Ford   \n",
       "17          Milos Forman      Jack Nicholson       Louise Fletcher   \n",
       "18           Thomas Kail  Lin-Manuel Miranda          Phillipa Soo   \n",
       "19          Bong Joon Ho        Kang-ho Song          Lee Sun-kyun   \n",
       "\n",
       "                 Star3                   Star4  No_of_Votes        Gross  \n",
       "0           Bob Gunton          William Sadler      2343110   28341469.0  \n",
       "1           James Caan            Diane Keaton      1620367  134966411.0  \n",
       "2        Aaron Eckhart           Michael Caine      2303232  534858444.0  \n",
       "3        Robert Duvall            Diane Keaton      1129952   57300000.0  \n",
       "4        Martin Balsam            John Fiedler       689845    4360000.0  \n",
       "5         Ian McKellen           Orlando Bloom      1642758  377845905.0  \n",
       "6    Samuel L. Jackson            Bruce Willis      1826188  107928762.0  \n",
       "7         Ben Kingsley        Caroline Goodall      1213505   96898818.0  \n",
       "8          Elliot Page            Ken Watanabe      2067042  292576195.0  \n",
       "9            Meat Loaf            Zach Grenier      1854740   37030102.0  \n",
       "10       Orlando Bloom               Sean Bean      1661481  315544750.0  \n",
       "11         Gary Sinise             Sally Field      1809221  330252182.0  \n",
       "12       Lee Van Cleef            Aldo Giuffrè       688390    6100000.0  \n",
       "13     Viggo Mortensen           Orlando Bloom      1485555  342551365.0  \n",
       "14  Laurence Fishburne        Carrie-Anne Moss      1676426  171479930.0  \n",
       "15           Joe Pesci         Lorraine Bracco      1020727   46836394.0  \n",
       "16       Carrie Fisher      Billy Dee Williams      1159315  290475067.0  \n",
       "17    Michael Berryman            Peter Brocco       918088  112000000.0  \n",
       "18     Leslie Odom Jr.  Renée Elise Goldsberry        55291          0.0  \n",
       "19       Cho Yeo-jeong            Choi Woo-sik       552778   53367844.0  "
      ]
     },
     "metadata": {},
     "output_type": "display_data"
    }
   ],
   "source": [
    "# Clean \"Runtime\"\n",
    "df['Runtime'] = df['Runtime'].astype(str).str.replace(' min', '').astype(int)\n",
    "\n",
    "# Clean \"Gross\"\n",
    "df['Gross'] = df['Gross'].astype(str).str.replace(',', '').astype(float)\n",
    "# Replace missing values in 'Gross' column with 0\n",
    "df['Gross'] = df['Gross'].fillna(0)\n",
    "\n",
    "# Handle other columns\n",
    "df['Certificate'] = df['Certificate'].fillna('NR')\n",
    "df.dropna(subset=['Meta_score'], inplace=True)\n",
    "\n",
    "# Drop rows with missing 'Meta_score' (critical for analysis)\n",
    "df.dropna(subset=['Meta_score'], inplace=True)\n",
    "\n",
    "display(df.head(20))"
   ]
  },
  {
   "cell_type": "code",
   "execution_count": 157,
   "metadata": {},
   "outputs": [
    {
     "data": {
      "text/plain": [
       "0"
      ]
     },
     "execution_count": 157,
     "metadata": {},
     "output_type": "execute_result"
    }
   ],
   "source": [
    "#Checking gross values missing values in the data \n",
    "\n",
    "df['Gross'].isnull().sum()"
   ]
  },
  {
   "cell_type": "code",
   "execution_count": 171,
   "metadata": {},
   "outputs": [
    {
     "name": "stdout",
     "output_type": "stream",
     "text": [
      "Runtime      int32\n",
      "Gross      float64\n",
      "dtype: object\n"
     ]
    }
   ],
   "source": [
    "print(df[['Runtime', 'Gross']].dtypes)"
   ]
  },
  {
   "cell_type": "code",
   "execution_count": 159,
   "metadata": {},
   "outputs": [],
   "source": [
    "df['Genre'] = df['Genre'].str.split(' , ')"
   ]
  },
  {
   "cell_type": "markdown",
   "metadata": {},
   "source": [
    "Step 4 :\n",
    "\n",
    "EDA ANALYSIS of the Data :\n",
    "\n"
   ]
  },
  {
   "cell_type": "code",
   "execution_count": 172,
   "metadata": {},
   "outputs": [
    {
     "data": {
      "text/html": [
       "<div>\n",
       "<style scoped>\n",
       "    .dataframe tbody tr th:only-of-type {\n",
       "        vertical-align: middle;\n",
       "    }\n",
       "\n",
       "    .dataframe tbody tr th {\n",
       "        vertical-align: top;\n",
       "    }\n",
       "\n",
       "    .dataframe thead th {\n",
       "        text-align: right;\n",
       "    }\n",
       "</style>\n",
       "<table border=\"1\" class=\"dataframe\">\n",
       "  <thead>\n",
       "    <tr style=\"text-align: right;\">\n",
       "      <th></th>\n",
       "      <th>Released_Year</th>\n",
       "      <th>Runtime</th>\n",
       "      <th>IMDB_Rating</th>\n",
       "      <th>Meta_score</th>\n",
       "      <th>No_of_Votes</th>\n",
       "      <th>Gross</th>\n",
       "      <th>Decade</th>\n",
       "    </tr>\n",
       "  </thead>\n",
       "  <tbody>\n",
       "    <tr>\n",
       "      <th>count</th>\n",
       "      <td>842.000000</td>\n",
       "      <td>843.000000</td>\n",
       "      <td>843.000000</td>\n",
       "      <td>843.000000</td>\n",
       "      <td>8.430000e+02</td>\n",
       "      <td>8.430000e+02</td>\n",
       "      <td>842.000000</td>\n",
       "    </tr>\n",
       "    <tr>\n",
       "      <th>mean</th>\n",
       "      <td>1992.667458</td>\n",
       "      <td>122.368921</td>\n",
       "      <td>7.931673</td>\n",
       "      <td>77.971530</td>\n",
       "      <td>3.131871e+05</td>\n",
       "      <td>6.668334e+07</td>\n",
       "      <td>1988.040380</td>\n",
       "    </tr>\n",
       "    <tr>\n",
       "      <th>std</th>\n",
       "      <td>21.638663</td>\n",
       "      <td>27.042332</td>\n",
       "      <td>0.283732</td>\n",
       "      <td>12.376099</td>\n",
       "      <td>3.417988e+05</td>\n",
       "      <td>1.094383e+08</td>\n",
       "      <td>21.547355</td>\n",
       "    </tr>\n",
       "    <tr>\n",
       "      <th>min</th>\n",
       "      <td>1925.000000</td>\n",
       "      <td>64.000000</td>\n",
       "      <td>7.600000</td>\n",
       "      <td>28.000000</td>\n",
       "      <td>2.519800e+04</td>\n",
       "      <td>0.000000e+00</td>\n",
       "      <td>1920.000000</td>\n",
       "    </tr>\n",
       "    <tr>\n",
       "      <th>25%</th>\n",
       "      <td>1980.000000</td>\n",
       "      <td>103.000000</td>\n",
       "      <td>7.700000</td>\n",
       "      <td>70.000000</td>\n",
       "      <td>7.102350e+04</td>\n",
       "      <td>2.080328e+06</td>\n",
       "      <td>1980.000000</td>\n",
       "    </tr>\n",
       "    <tr>\n",
       "      <th>50%</th>\n",
       "      <td>1999.000000</td>\n",
       "      <td>119.000000</td>\n",
       "      <td>7.900000</td>\n",
       "      <td>79.000000</td>\n",
       "      <td>1.849660e+05</td>\n",
       "      <td>2.249449e+07</td>\n",
       "      <td>1990.000000</td>\n",
       "    </tr>\n",
       "    <tr>\n",
       "      <th>75%</th>\n",
       "      <td>2009.000000</td>\n",
       "      <td>135.000000</td>\n",
       "      <td>8.100000</td>\n",
       "      <td>87.000000</td>\n",
       "      <td>4.396310e+05</td>\n",
       "      <td>7.833398e+07</td>\n",
       "      <td>2000.000000</td>\n",
       "    </tr>\n",
       "    <tr>\n",
       "      <th>max</th>\n",
       "      <td>2020.000000</td>\n",
       "      <td>321.000000</td>\n",
       "      <td>9.300000</td>\n",
       "      <td>100.000000</td>\n",
       "      <td>2.343110e+06</td>\n",
       "      <td>9.366622e+08</td>\n",
       "      <td>2020.000000</td>\n",
       "    </tr>\n",
       "  </tbody>\n",
       "</table>\n",
       "</div>"
      ],
      "text/plain": [
       "       Released_Year     Runtime  IMDB_Rating  Meta_score   No_of_Votes  \\\n",
       "count     842.000000  843.000000   843.000000  843.000000  8.430000e+02   \n",
       "mean     1992.667458  122.368921     7.931673   77.971530  3.131871e+05   \n",
       "std        21.638663   27.042332     0.283732   12.376099  3.417988e+05   \n",
       "min      1925.000000   64.000000     7.600000   28.000000  2.519800e+04   \n",
       "25%      1980.000000  103.000000     7.700000   70.000000  7.102350e+04   \n",
       "50%      1999.000000  119.000000     7.900000   79.000000  1.849660e+05   \n",
       "75%      2009.000000  135.000000     8.100000   87.000000  4.396310e+05   \n",
       "max      2020.000000  321.000000     9.300000  100.000000  2.343110e+06   \n",
       "\n",
       "              Gross       Decade  \n",
       "count  8.430000e+02   842.000000  \n",
       "mean   6.668334e+07  1988.040380  \n",
       "std    1.094383e+08    21.547355  \n",
       "min    0.000000e+00  1920.000000  \n",
       "25%    2.080328e+06  1980.000000  \n",
       "50%    2.249449e+07  1990.000000  \n",
       "75%    7.833398e+07  2000.000000  \n",
       "max    9.366622e+08  2020.000000  "
      ]
     },
     "execution_count": 172,
     "metadata": {},
     "output_type": "execute_result"
    }
   ],
   "source": [
    "df.describe()  # Summary for numeric columns"
   ]
  },
  {
   "cell_type": "markdown",
   "metadata": {},
   "source": [
    "Top 3 Director with the Most Rating:\n",
    "\n",
    "     1. Alfred Hichcock\n",
    "     2. Steven Spielberg\n",
    "     3. Hayao Miyazaki"
   ]
  },
  {
   "cell_type": "code",
   "execution_count": 173,
   "metadata": {},
   "outputs": [
    {
     "name": "stdout",
     "output_type": "stream",
     "text": [
      "Director\n",
      "Alfred Hitchcock     14\n",
      "Steven Spielberg     13\n",
      "Hayao Miyazaki       11\n",
      "Martin Scorsese      10\n",
      "Stanley Kubrick       9\n",
      "Christopher Nolan     8\n",
      "Quentin Tarantino     8\n",
      "David Fincher         8\n",
      "Woody Allen           8\n",
      "Clint Eastwood        8\n",
      "Name: count, dtype: int64\n"
     ]
    }
   ],
   "source": [
    "top_directors = df['Director'].value_counts().head(10)\n",
    "print(top_directors)"
   ]
  },
  {
   "cell_type": "markdown",
   "metadata": {},
   "source": [
    "Top 3 Genre which is popular ?\n",
    "\n",
    "      1. Drama\n",
    "\n",
    "      2. Comedy\n",
    "\n",
    "      3. Adventure"
   ]
  },
  {
   "cell_type": "code",
   "execution_count": 162,
   "metadata": {},
   "outputs": [
    {
     "name": "stdout",
     "output_type": "stream",
     "text": [
      "Genre\n",
      "Drama        600\n",
      "Comedy       188\n",
      "Adventure    180\n",
      "Crime        169\n",
      "Action       156\n",
      "Thriller     118\n",
      "Romance      104\n",
      "Biography     97\n",
      "Mystery       80\n",
      "Animation     75\n",
      "Sci-Fi        62\n",
      "Fantasy       58\n",
      "Family        50\n",
      "History       48\n",
      "War           45\n",
      "Music         29\n",
      "Horror        27\n",
      "Western       20\n",
      "Sport         17\n",
      "Musical       12\n",
      "Film-Noir     11\n",
      "Name: count, dtype: int64\n"
     ]
    }
   ],
   "source": [
    "genres = df.explode('Genre')['Genre'].value_counts()\n",
    "print(genres)  # What are the most common genres?"
   ]
  },
  {
   "cell_type": "code",
   "execution_count": 163,
   "metadata": {},
   "outputs": [],
   "source": [
    "# Convert Released_Year to integers first\n",
    "df['Released_Year'] = pd.to_numeric(df['Released_Year'], errors='coerce')\n"
   ]
  },
  {
   "cell_type": "code",
   "execution_count": 164,
   "metadata": {},
   "outputs": [],
   "source": [
    "\n",
    "# Now create the decade column\n",
    "df['Decade'] = (df['Released_Year'] // 10) * 10\n",
    "decade_ratings = df.groupby('Decade')['IMDB_Rating'].mean()\n"
   ]
  },
  {
   "cell_type": "markdown",
   "metadata": {},
   "source": [
    "Step 5:\n",
    "\n",
    "   Data Visualization:\n",
    "        "
   ]
  },
  {
   "cell_type": "code",
   "execution_count": 165,
   "metadata": {},
   "outputs": [
    {
     "name": "stderr",
     "output_type": "stream",
     "text": [
      "C:\\Users\\Naveen\\AppData\\Local\\Temp\\ipykernel_37068\\2953902187.py:2: FutureWarning:\n",
      "\n",
      "\n",
      "\n",
      "Passing `palette` without assigning `hue` is deprecated and will be removed in v0.14.0. Assign the `y` variable to `hue` and set `legend=False` for the same effect.\n",
      "\n",
      "\n"
     ]
    },
    {
     "data": {
      "image/png": "[encoded data removed]",
      "text/plain": [
       "<Figure size 1200x600 with 1 Axes>"
      ]
     },
     "metadata": {},
     "output_type": "display_data"
    }
   ],
   "source": [
    "plt.figure(figsize=(12,6))\n",
    "sns.barplot(x=genres.values, y=genres.index, palette='viridis')\n",
    "plt.title('Top Genres in IMDb Top 1000')\n",
    "plt.xlabel('Number of Movies')\n",
    "plt.show()"
   ]
  },
  {
   "cell_type": "code",
   "execution_count": 166,
   "metadata": {},
   "outputs": [
    {
     "data": {
      "image/png": "[encoded data removed]",
      "text/plain": [
       "<Figure size 1000x600 with 1 Axes>"
      ]
     },
     "metadata": {},
     "output_type": "display_data"
    }
   ],
   "source": [
    "plt.figure(figsize=(10,6))\n",
    "sns.scatterplot(x='IMDB_Rating', y='Gross', data=df, hue='Certificate')\n",
    "plt.title('Do Higher Ratings Mean Higher Earnings?')\n",
    "plt.show()"
   ]
  },
  {
   "cell_type": "code",
   "execution_count": 167,
   "metadata": {},
   "outputs": [
    {
     "data": {
      "image/png": "[encoded data removed]",
      "text/plain": [
       "<Figure size 1200x600 with 1 Axes>"
      ]
     },
     "metadata": {},
     "output_type": "display_data"
    }
   ],
   "source": [
    "plt.figure(figsize=(12,6))\n",
    "sns.lineplot(x=decade_ratings.index, y=decade_ratings.values, marker='o')\n",
    "plt.title('Average IMDB Ratings Over Decades')\n",
    "plt.xticks(decade_ratings.index)  # Shows all decades\n",
    "plt.show()"
   ]
  },
  {
   "cell_type": "markdown",
   "metadata": {},
   "source": [
    "STEP : 6 \n",
    "\n",
    "Advanced Analysis "
   ]
  },
  {
   "cell_type": "code",
   "execution_count": 168,
   "metadata": {},
   "outputs": [
    {
     "data": {
      "image/png": "[encoded data removed]",
      "text/plain": [
       "<Figure size 640x480 with 2 Axes>"
      ]
     },
     "metadata": {},
     "output_type": "display_data"
    }
   ],
   "source": [
    "numeric_cols = ['IMDB_Rating', 'Meta_score', 'Runtime', 'No_of_Votes', 'Gross']\n",
    "sns.heatmap(df[numeric_cols].corr(), annot=True, cmap='coolwarm')\n",
    "plt.title('What Factors Influence Ratings?')\n",
    "plt.show()"
   ]
  },
  {
   "cell_type": "code",
   "execution_count": 169,
   "metadata": {},
   "outputs": [
    {
     "name": "stdout",
     "output_type": "stream",
     "text": [
      "8.5\n"
     ]
    }
   ],
   "source": [
    "morgan_freeman_movies = df[df['Star1'].str.contains('Morgan Freeman') | \n",
    "                         df['Star2'].str.contains('Morgan Freeman')]\n",
    "print(morgan_freeman_movies['IMDB_Rating'].mean())"
   ]
  },
  {
   "cell_type": "code",
   "execution_count": 170,
   "metadata": {},
   "outputs": [
    {
     "data": {
      "application/vnd.plotly.v1+json": {
       "config": {
        "plotlyServerURL": "https://plot.ly"
       },
       "data": [
        {
         "customdata": [
          [
           "The Shawshank Redemption"
          ],
          [
           "The Godfather"
          ],
          [
           "The Godfather: Part II"
          ],
          [
           "Pulp Fiction"
          ],
          [
           "Schindler's List"
          ],
          [
           "Fight Club"
          ],
          [
           "Il buono, il brutto, il cattivo"
          ],
          [
           "The Matrix"
          ],
          [
           "Goodfellas"
          ],
          [
           "One Flew Over the Cuckoo's Nest"
          ],
          [
           "Gisaengchung"
          ],
          [
           "Cidade de Deus"
          ],
          [
           "The Green Mile"
          ],
          [
           "Se7en"
          ],
          [
           "The Silence of the Lambs"
          ],
          [
           "Joker"
          ],
          [
           "Whiplash"
          ],
          [
           "The Departed"
          ],
          [
           "The Usual Suspects"
          ],
          [
           "Léon"
          ],
          [
           "Psycho"
          ],
          [
           "Capharnaüm"
          ],
          [
           "Django Unchained"
          ],
          [
           "The Lives of Others"
          ],
          [
           "Oldeuboi"
          ],
          [
           "Raiders of the Lost Ark"
          ],
          [
           "The Shining"
          ],
          [
           "Dr. Strangelove or: How I Learned to Stop Worrying and Love the Bomb"
          ],
          [
           "Paths of Glory"
          ],
          [
           "Inglourious Basterds"
          ],
          [
           "Requiem for a Dream"
          ],
          [
           "Braveheart"
          ],
          [
           "Scarface"
          ],
          [
           "Taxi Driver"
          ],
          [
           "A Clockwork Orange"
          ],
          [
           "Vertigo"
          ],
          [
           "Three Billboards Outside Ebbing, Missouri"
          ],
          [
           "Gangs of Wasseypur"
          ],
          [
           "Shutter Island"
          ],
          [
           "The Wolf of Wall Street"
          ],
          [
           "There Will Be Blood"
          ],
          [
           "V for Vendetta"
          ],
          [
           "Lock, Stock and Two Smoking Barrels"
          ],
          [
           "L.A. Confidential"
          ],
          [
           "Heat"
          ],
          [
           "Casino"
          ],
          [
           "Unforgiven"
          ],
          [
           "Die Hard"
          ],
          [
           "Raging Bull"
          ],
          [
           "Judgment at Nuremberg"
          ],
          [
           "Det sjunde inseglet"
          ],
          [
           "Dial M for Murder"
          ],
          [
           "Ah-ga-ssi"
          ],
          [
           "Logan"
          ],
          [
           "Gone Girl"
          ],
          [
           "Hacksaw Ridge"
          ],
          [
           "12 Years a Slave"
          ],
          [
           "Spotlight"
          ],
          [
           "Prisoners"
          ],
          [
           "Catch Me If You Can"
          ],
          [
           "Amores perros"
          ],
          [
           "The Sixth Sense"
          ],
          [
           "Trainspotting"
          ],
          [
           "Fargo"
          ],
          [
           "Platoon"
          ],
          [
           "The Thing"
          ],
          [
           "Fanny och Alexander"
          ],
          [
           "The Deer Hunter"
          ],
          [
           "Cool Hand Luke"
          ],
          [
           "On the Waterfront"
          ],
          [
           "La La Land"
          ],
          [
           "Serbuan maut 2: Berandal"
          ],
          [
           "Her"
          ],
          [
           "The Revenant"
          ],
          [
           "Black Swan"
          ],
          [
           "Blood Diamond"
          ],
          [
           "Sin City"
          ],
          [
           "Kill Bill: Vol. 2"
          ],
          [
           "Twelve Monkeys"
          ],
          [
           "Annie Hall"
          ],
          [
           "Jaws"
          ],
          [
           "Young Frankenstein"
          ],
          [
           "The Exorcist"
          ],
          [
           "Rosemary's Baby"
          ],
          [
           "The Graduate"
          ],
          [
           "Who's Afraid of Virginia Woolf?"
          ],
          [
           "Doctor Zhivago"
          ],
          [
           "Per un pugno di dollari"
          ],
          [
           "The Hustler"
          ],
          [
           "La dolce vita"
          ],
          [
           "Cat on a Hot Tin Roof"
          ],
          [
           "A Streetcar Named Desire"
          ],
          [
           "Rope"
          ],
          [
           "Manbiki kazoku"
          ],
          [
           "Nightcrawler"
          ],
          [
           "Un prophète"
          ],
          [
           "District 9"
          ],
          [
           "Boyhood"
          ],
          [
           "Mystic River"
          ],
          [
           "Children of Men"
          ],
          [
           "Almost Famous"
          ],
          [
           "Once Were Warriors"
          ],
          [
           "Carlito's Way"
          ],
          [
           "The Untouchables"
          ],
          [
           "All That Jazz"
          ],
          [
           "Dawn of the Dead"
          ],
          [
           "The Wild Bunch"
          ],
          [
           "Spartacus"
          ],
          [
           "Strangers on a Train"
          ],
          [
           "The Gentlemen"
          ],
          [
           "The Hateful Eight"
          ],
          [
           "Moonrise Kingdom"
          ],
          [
           "The Big Short"
          ],
          [
           "Taken"
          ],
          [
           "Drive"
          ],
          [
           "American Gangster"
          ],
          [
           "Apocalypto"
          ],
          [
           "The Notebook"
          ],
          [
           "Boyz n the Hood"
          ],
          [
           "Mississippi Burning"
          ],
          [
           "Predator"
          ],
          [
           "Evil Dead II"
          ],
          [
           "Kramer vs. Kramer"
          ],
          [
           "The Outlaw Josey Wales"
          ],
          [
           "The Day of the Jackal"
          ],
          [
           "Cabaret"
          ],
          [
           "Midnight Cowboy"
          ],
          [
           "Bonnie and Clyde"
          ],
          [
           "The Innocents"
          ],
          [
           "Kingsman: The Secret Service"
          ],
          [
           "Birdman or (The Unexpected Virtue of Ignorance)"
          ],
          [
           "La vie d'Adèle"
          ],
          [
           "Silver Linings Playbook"
          ],
          [
           "Argo"
          ],
          [
           "Harry Potter and the Deathly Hallows: Part 1"
          ],
          [
           "Brokeback Mountain"
          ],
          [
           "3:10 to Yuma"
          ],
          [
           "The Bourne Supremacy"
          ],
          [
           "Ray"
          ],
          [
           "Black Hawk Down"
          ],
          [
           "Road to Perdition"
          ],
          [
           "South Park: Bigger, Longer & Uncut"
          ],
          [
           "Training Day"
          ],
          [
           "As Good as It Gets"
          ],
          [
           "Donnie Brasco"
          ],
          [
           "Primal Fear"
          ],
          [
           "Blue Velvet"
          ],
          [
           "First Blood"
          ],
          [
           "Halloween"
          ],
          [
           "Blazing Saddles"
          ],
          [
           "Serpico"
          ],
          [
           "Enter the Dragon"
          ],
          [
           "The French Connection"
          ],
          [
           "Dirty Harry"
          ],
          [
           "Goldfinger"
          ],
          [
           "The Birds"
          ],
          [
           "Once Upon a Time... in Hollywood"
          ],
          [
           "The Florida Project"
          ],
          [
           "Just Mercy"
          ],
          [
           "Sicario"
          ],
          [
           "Creed"
          ],
          [
           "Serbuan maut"
          ],
          [
           "End of Watch"
          ],
          [
           "Zombieland"
          ],
          [
           "300"
          ],
          [
           "Watchmen"
          ],
          [
           "28 Days Later..."
          ],
          [
           "The Royal Tenenbaums"
          ],
          [
           "Y tu mamá también"
          ],
          [
           "Enemy at the Gates"
          ],
          [
           "Minority Report"
          ],
          [
           "American Psycho"
          ],
          [
           "The Thin Red Line"
          ],
          [
           "Funny Games"
          ],
          [
           "Dark City"
          ],
          [
           "Lost Highway"
          ],
          [
           "Die Hard: With a Vengeance"
          ],
          [
           "The Bridges of Madison County"
          ],
          [
           "The Godfather: Part III"
          ],
          [
           "Lethal Weapon"
          ],
          [
           "Blood Simple"
          ],
          [
           "Mad Max 2"
          ],
          [
           "Escape from Alcatraz"
          ],
          [
           "Midnight Express"
          ],
          [
           "The Long Goodbye"
          ],
          [
           "Blowup"
          ],
          [
           "Breakfast at Tiffany's"
          ]
         ],
         "hovertemplate": "Certificate=A<br>IMDB_Rating=%{x}<br>Gross=%{y}<br>Series_Title=%{customdata[0]}<extra></extra>",
         "legendgroup": "A",
         "marker": {
          "color": "#636efa",
          "symbol": "circle"
         },
         "mode": "markers",
         "name": "A",
         "orientation": "v",
         "showlegend": true,
         "type": "scatter",
         "x": {
          "bdata": "mpmZmZmZIkBmZmZmZmYiQAAAAAAAACJAzczMzMzMIUDNzMzMzMwhQJqZmZmZmSFAmpmZmZmZIUBmZmZmZmYhQGZmZmZmZiFAZmZmZmZmIUAzMzMzMzMhQDMzMzMzMyFAMzMzMzMzIUAzMzMzMzMhQDMzMzMzMyFAAAAAAAAAIUAAAAAAAAAhQAAAAAAAACFAAAAAAAAAIUAAAAAAAAAhQAAAAAAAACFAzczMzMzMIEDNzMzMzMwgQM3MzMzMzCBAzczMzMzMIEDNzMzMzMwgQM3MzMzMzCBAzczMzMzMIEDNzMzMzMwgQJqZmZmZmSBAmpmZmZmZIECamZmZmZkgQJqZmZmZmSBAmpmZmZmZIECamZmZmZkgQJqZmZmZmSBAZmZmZmZmIEBmZmZmZmYgQGZmZmZmZiBAZmZmZmZmIEBmZmZmZmYgQGZmZmZmZiBAZmZmZmZmIEBmZmZmZmYgQGZmZmZmZiBAZmZmZmZmIEBmZmZmZmYgQGZmZmZmZiBAZmZmZmZmIEBmZmZmZmYgQGZmZmZmZiBAZmZmZmZmIEAzMzMzMzMgQDMzMzMzMyBAMzMzMzMzIEAzMzMzMzMgQDMzMzMzMyBAMzMzMzMzIEAzMzMzMzMgQDMzMzMzMyBAMzMzMzMzIEAzMzMzMzMgQDMzMzMzMyBAMzMzMzMzIEAzMzMzMzMgQDMzMzMzMyBAMzMzMzMzIEAzMzMzMzMgQDMzMzMzMyBAMzMzMzMzIEAAAAAAAAAgQAAAAAAAACBAAAAAAAAAIEAAAAAAAAAgQAAAAAAAACBAAAAAAAAAIEAAAAAAAAAgQAAAAAAAACBAAAAAAAAAIEAAAAAAAAAgQAAAAAAAACBAAAAAAAAAIEAAAAAAAAAgQAAAAAAAACBAAAAAAAAAIEAAAAAAAAAgQAAAAAAAACBAAAAAAAAAIEAAAAAAAAAgQAAAAAAAACBAAAAAAAAAIEAAAAAAAAAgQAAAAAAAACBAmpmZmZmZH0CamZmZmZkfQJqZmZmZmR9AmpmZmZmZH0CamZmZmZkfQJqZmZmZmR9AmpmZmZmZH0CamZmZmZkfQJqZmZmZmR9AmpmZmZmZH0CamZmZmZkfQJqZmZmZmR9AmpmZmZmZH0CamZmZmZkfQJqZmZmZmR9AmpmZmZmZH0AzMzMzMzMfQDMzMzMzMx9AMzMzMzMzH0AzMzMzMzMfQDMzMzMzMx9AMzMzMzMzH0AzMzMzMzMfQDMzMzMzMx9AMzMzMzMzH0AzMzMzMzMfQDMzMzMzMx9AMzMzMzMzH0AzMzMzMzMfQDMzMzMzMx9AMzMzMzMzH0AzMzMzMzMfQDMzMzMzMx9AMzMzMzMzH0AzMzMzMzMfQDMzMzMzMx9AzczMzMzMHkDNzMzMzMweQM3MzMzMzB5AzczMzMzMHkDNzMzMzMweQM3MzMzMzB5AzczMzMzMHkDNzMzMzMweQM3MzMzMzB5AzczMzMzMHkDNzMzMzMweQM3MzMzMzB5AzczMzMzMHkDNzMzMzMweQM3MzMzMzB5AzczMzMzMHkDNzMzMzMweQM3MzMzMzB5AzczMzMzMHkDNzMzMzMweQM3MzMzMzB5AzczMzMzMHkDNzMzMzMweQM3MzMzMzB5AzczMzMzMHkDNzMzMzMweQM3MzMzMzB5AZmZmZmZmHkBmZmZmZmYeQGZmZmZmZh5AZmZmZmZmHkBmZmZmZmYeQGZmZmZmZh5AZmZmZmZmHkBmZmZmZmYeQGZmZmZmZh5AZmZmZmZmHkBmZmZmZmYeQGZmZmZmZh5AZmZmZmZmHkBmZmZmZmYeQGZmZmZmZh5AZmZmZmZmHkBmZmZmZmYeQGZmZmZmZh5AZmZmZmZmHkBmZmZmZmYeQGZmZmZmZh5AZmZmZmZmHkBmZmZmZmYeQGZmZmZmZh5AZmZmZmZmHkBmZmZmZmYeQGZmZmZmZh5AZmZmZmZmHkBmZmZmZmYeQGZmZmZmZh5AZmZmZmZmHkA=",
          "dtype": "f8"
         },
         "xaxis": "x",
         "y": {
          "bdata": "AAAA0E0He0EAAAAW2RagQQAAAAChUotBAAAA6HK7mUEAAAAIPBqXQQAAALBGqIFBAAAAAAhFV0EAAAD0JnGkQQAAAFBVVYZBAAAAAPCzmkEAAAAgoXKJQQAAAEAh2lxBAAAAvNhOoEEAAAAsL9+XQQAAACjqK59BAAAAr5T+s0EAAAAAlPhoQQAAAOwYkJ9BAAAAAKBCdkEAAABgC5lyQQAAAACAhH5BAAAAAKhYOUEAAAB0bWijQQAAAADMhmVBAAAAADKXJUEAAADGPZWtQQAAAPA2/YRBAAAAAPjWEEEAAAAAAAAAAAAAALw4vZxBAAAAAI28S0EAAAAAQgaSQQAAADBIvoVBAAAA4Ar0ekEAAABAO65XQQAAAAAAakhBAAAAYIL+iUEAAAAAAAAAAAAAABhKhZ5BAAAAWA3fm0EAAACQ+S2DQQAAAOymz5BBAAAAgHC8TUEAAABgz8+OQQAAAEgEFJBBAAAA4HQ8hEEAAAAcKR6YQQAAAFB1ypNBAAAAMPtMdkEAAAAAAAAAAAAAAAAAAAAAAAAAAACJyEAAAAAABJ8+QQAAAJht+apBAAAAKtn/o0EAAAA8JgaQQQAAAMj3BYtBAAAAAPl7hUEAAADwkRaNQQAAAG6pn6NBAAAAgKaJVEEAAAD0jH6xQQAAACCDeW9BAAAAcMh4d0EAAAAKnoOgQQAAAMDmSWpBAAAAANP2UkEAAAAA7FqHQQAAAKDV7m5BAAAAAIBPYkEAAADWQgOiQQAAAICFCERBAAAAsD9ieEEAAAAML+SlQQAAANj+f5lBAAAAsLdai0EAAAAw8KqRQQAAALgNko9BAAAAmEY/i0EAAAAAKLGCQQAAAACS/q5BAAAAgFWTlEEAAABCu8OrQQAAAAAAAAAAAAAAZFoFmUEAAAAAAAAAAAAAAED4oppBAAAAABSoa0EAAAAA2JlfQQAAAACmnHJBAAAAQKHBcEEAAAAAgIReQQAAAAAAAAAAAAAAgLRHSUEAAAAgkuF+QQAAAAAdzz9BAAAAbHySm0EAAABwSDR4QQAAAFxqfZVBAAAA+OPzgEEAAAAgFAd/QQAAAAATy0BBAAAAEEuegUEAAADYLS+SQQAAAOAlCYJBAAAAAHh0U0EAAAAA2wJnQQAAAAA4nHxBAAAAACwbXUEAAAAAAAAAAAAAAEAhzolBAAAAkLizhUEAAAB4UsCQQQAAADoUSaFBAAAAmPm3gEEAAACUngifQQAAAFhOQYhBAAAA7PRPk0EAAAAoimuLQQAAADgdgIBBAAAA4O97jEEAAAAAOZhWQQAAAICYVZlBAAAAAKxTfkEAAADg959uQQAAAEBWZIRBAAAA6OxahUEAAAAAAAAAAAAAAABg9UNBAAAAcHmUnkEAAACwhzCEQQAAAIA9yEBBAAAAeFB+n0EAAAA+KzegQQAAAMlYpLFBAAAAxJbMk0EAAAAg0I+JQQAAACp6AqVBAAAAQOD1kUEAAABkyOaZQQAAAKhp55hBAAAAGD/QiEEAAACMPUWSQQAAAHYws6FBAAAAEPD7g0EAAAC4HsKKQQAAAIBnT2BBAAAAQEuDhkEAAAAATmmGQQAAAICzfZxBAAAAAGRrfEEAAAAAhNd3QQAAAMAu0G1BAAAAAFMegUEAAAAwe1uIQQAAACAhwGVBAAAAkNb8oEEAAACA+4VWQQAAAAAAAAAAAAAAaMpbhkEAAAB0riuaQQAAAIDRUU9BAAAAWEuNg0EAAAA4qgWSQQAAADZ1G6lBAAAAnOChmUEAAACYFn2FQQAAAFAX+IhBAAAAoIf7aUEAAADwoIKIQQAAAHgXfZ9BAAAAoIm+bEEAAABYa1uBQQAAAAAAAAAAAAAAYKtsa0EAAACAbfdMQQAAAExH2JdBAAAAJAcNkUEAAABw8smPQQAAALjaF49BAAAAADhnQEEAAABgm8ZnQQAAAAAGgYRBAAAAAHawgEEAAAAAMEQtQQAAAAAAAAAAAAAAAAAAAAA=",
          "dtype": "f8"
         },
         "yaxis": "y"
        },
        {
         "customdata": [
          [
           "The Dark Knight"
          ],
          [
           "Inception"
          ],
          [
           "Forrest Gump"
          ],
          [
           "The Lord of the Rings: The Two Towers"
          ],
          [
           "Star Wars: Episode V - The Empire Strikes Back"
          ],
          [
           "Interstellar"
          ],
          [
           "Star Wars"
          ],
          [
           "The Intouchables"
          ],
          [
           "Gladiator"
          ],
          [
           "Avengers: Endgame"
          ],
          [
           "Avengers: Infinity War"
          ],
          [
           "The Dark Knight Rises"
          ],
          [
           "3 Idiots"
          ],
          [
           "Memento"
          ],
          [
           "Eternal Sunshine of the Spotless Mind"
          ],
          [
           "Snatch"
          ],
          [
           "American Beauty"
          ],
          [
           "Full Metal Jacket"
          ],
          [
           "Citizen Kane"
          ],
          [
           "Green Book"
          ],
          [
           "Warrior"
          ],
          [
           "Pan's Labyrinth"
          ],
          [
           "Batman Begins"
          ],
          [
           "A Beautiful Mind"
          ],
          [
           "The Grand Budapest Hotel"
          ],
          [
           "Rush"
          ],
          [
           "Ford v Ferrari"
          ],
          [
           "Mad Max: Fury Road"
          ],
          [
           "Harry Potter and the Deathly Hallows: Part 2"
          ],
          [
           "Million Dollar Baby"
          ],
          [
           "Salinui chueok"
          ],
          [
           "Jurassic Park"
          ],
          [
           "In the Name of the Father"
          ],
          [
           "Pink Floyd: The Wall"
          ],
          [
           "Blade Runner"
          ],
          [
           "The Elephant Man"
          ],
          [
           "Network"
          ],
          [
           "Chinatown"
          ],
          [
           "The Martian"
          ],
          [
           "Gully Boy"
          ],
          [
           "The Imitation Game"
          ],
          [
           "Guardians of the Galaxy"
          ],
          [
           "Blade Runner 2049"
          ],
          [
           "Bohemian Rhapsody"
          ],
          [
           "The Perks of Being a Wallflower"
          ],
          [
           "The Help"
          ],
          [
           "My Name Is Khan"
          ],
          [
           "Slumdog Millionaire"
          ],
          [
           "The Avengers"
          ],
          [
           "The Bourne Ultimatum"
          ],
          [
           "Cinderella Man"
          ],
          [
           "Mou gaan dou"
          ],
          [
           "Pirates of the Caribbean: The Curse of the Black Pearl"
          ],
          [
           "Kôkaku Kidôtai"
          ],
          [
           "Scent of a Woman"
          ],
          [
           "JFK"
          ],
          [
           "The Terminator"
          ],
          [
           "Il conformista"
          ],
          [
           "Knives Out"
          ],
          [
           "Call Me by Your Name"
          ],
          [
           "I, Daniel Blake"
          ],
          [
           "Hunt for the Wilderpeople"
          ],
          [
           "Thor: Ragnarok"
          ],
          [
           "Jojo Rabbit"
          ],
          [
           "Arrival"
          ],
          [
           "X-Men: Days of Future Past"
          ],
          [
           "Edge of Tomorrow"
          ],
          [
           "Amour"
          ],
          [
           "The Wrestler"
          ],
          [
           "Star Trek"
          ],
          [
           "Letters from Iwo Jima"
          ],
          [
           "Iron Man"
          ],
          [
           "Shaun of the Dead"
          ],
          [
           "The Bourne Identity"
          ],
          [
           "Forushande"
          ],
          [
           "Dunkirk"
          ],
          [
           "Hidden Figures"
          ],
          [
           "Manchester by the Sea"
          ],
          [
           "Rogue One"
          ],
          [
           "Captain America: Civil War"
          ],
          [
           "Loving Vincent"
          ],
          [
           "Captain Phillips"
          ],
          [
           "The Hobbit: The Desolation of Smaug"
          ],
          [
           "Das weiße Band - Eine deutsche Kindergeschichte"
          ],
          [
           "The Fighter"
          ],
          [
           "The Hobbit: An Unexpected Journey"
          ],
          [
           "Avatar"
          ],
          [
           "Little Miss Sunshine"
          ],
          [
           "Hot Fuzz"
          ],
          [
           "The Curious Case of Benjamin Button"
          ],
          [
           "Tôkyô goddofâzâzu"
          ],
          [
           "Wo hu cang long"
          ],
          [
           "Cast Away"
          ],
          [
           "The Insider"
          ],
          [
           "Titanic"
          ],
          [
           "Gattaca"
          ],
          [
           "The Game"
          ],
          [
           "The Breakfast Club"
          ],
          [
           "The Killing Fields"
          ],
          [
           "Ghostbusters"
          ],
          [
           "Mission: Impossible - Fallout"
          ],
          [
           "The Fault in Our Stars"
          ],
          [
           "Captain America: The Winter Soldier"
          ],
          [
           "Nebraska"
          ],
          [
           "Gravity"
          ],
          [
           "Star Trek Into Darkness"
          ],
          [
           "The Social Network"
          ],
          [
           "X: First Class"
          ],
          [
           "The Hangover"
          ],
          [
           "Skyfall"
          ],
          [
           "(500) Days of Summer"
          ],
          [
           "Ex Machina"
          ],
          [
           "Zodiac"
          ],
          [
           "Crash"
          ],
          [
           "Kung fu"
          ],
          [
           "Lost in Translation"
          ],
          [
           "Harry Potter and the Goblet of Fire"
          ],
          [
           "Man on Fire"
          ],
          [
           "The Last Samurai"
          ],
          [
           "Ocean's Eleven"
          ],
          [
           "Rushmore"
          ],
          [
           "The Fifth Element"
          ],
          [
           "Do lok tin si"
          ],
          [
           "Philadelphia"
          ],
          [
           "The Last of the Mohicans"
          ],
          [
           "After Hours"
          ],
          [
           "Guardians of the Galaxy Vol. 2"
          ],
          [
           "Baby Driver"
          ],
          [
           "Only the Brave"
          ],
          [
           "Bridge of Spies"
          ],
          [
           "Incredibles 2"
          ],
          [
           "Dawn of the Planet of the Apes"
          ],
          [
           "A Star Is Born"
          ],
          [
           "Kick-Ass"
          ],
          [
           "The Blind Side"
          ],
          [
           "Seven Pounds"
          ],
          [
           "Harry Potter and the Half-Blood Prince"
          ],
          [
           "Saw"
          ],
          [
           "21 Grams"
          ],
          [
           "Lola rennt"
          ],
          [
           "Sleepers"
          ],
          [
           "My Cousin Vinny"
          ],
          [
           "When Harry Met Sally..."
          ],
          [
           "On Golden Pond"
          ],
          [
           "The Warriors"
          ]
         ],
         "hovertemplate": "Certificate=UA<br>IMDB_Rating=%{x}<br>Gross=%{y}<br>Series_Title=%{customdata[0]}<extra></extra>",
         "legendgroup": "UA",
         "marker": {
          "color": "#EF553B",
          "symbol": "circle"
         },
         "mode": "markers",
         "name": "UA",
         "orientation": "v",
         "showlegend": true,
         "type": "scatter",
         "x": {
          "bdata": "AAAAAAAAIkCamZmZmZkhQJqZmZmZmSFAZmZmZmZmIUBmZmZmZmYhQDMzMzMzMyFAMzMzMzMzIUAAAAAAAAAhQAAAAAAAACFAzczMzMzMIEDNzMzMzMwgQM3MzMzMzCBAzczMzMzMIEDNzMzMzMwgQJqZmZmZmSBAmpmZmZmZIECamZmZmZkgQJqZmZmZmSBAmpmZmZmZIEBmZmZmZmYgQGZmZmZmZiBAZmZmZmZmIEBmZmZmZmYgQGZmZmZmZiBAMzMzMzMzIEAzMzMzMzMgQDMzMzMzMyBAMzMzMzMzIEAzMzMzMzMgQDMzMzMzMyBAMzMzMzMzIEAzMzMzMzMgQDMzMzMzMyBAMzMzMzMzIEAzMzMzMzMgQDMzMzMzMyBAMzMzMzMzIEAzMzMzMzMgQAAAAAAAACBAAAAAAAAAIEAAAAAAAAAgQAAAAAAAACBAAAAAAAAAIEAAAAAAAAAgQAAAAAAAACBAAAAAAAAAIEAAAAAAAAAgQAAAAAAAACBAAAAAAAAAIEAAAAAAAAAgQAAAAAAAACBAAAAAAAAAIEAAAAAAAAAgQAAAAAAAACBAAAAAAAAAIEAAAAAAAAAgQAAAAAAAACBAAAAAAAAAIECamZmZmZkfQJqZmZmZmR9AmpmZmZmZH0CamZmZmZkfQJqZmZmZmR9AmpmZmZmZH0CamZmZmZkfQJqZmZmZmR9AmpmZmZmZH0CamZmZmZkfQJqZmZmZmR9AmpmZmZmZH0CamZmZmZkfQJqZmZmZmR9AmpmZmZmZH0CamZmZmZkfQDMzMzMzMx9AMzMzMzMzH0AzMzMzMzMfQDMzMzMzMx9AMzMzMzMzH0AzMzMzMzMfQDMzMzMzMx9AMzMzMzMzH0AzMzMzMzMfQDMzMzMzMx9AMzMzMzMzH0AzMzMzMzMfQDMzMzMzMx9AMzMzMzMzH0AzMzMzMzMfQDMzMzMzMx9AMzMzMzMzH0AzMzMzMzMfQDMzMzMzMx9AMzMzMzMzH0AzMzMzMzMfQDMzMzMzMx9AMzMzMzMzH0AzMzMzMzMfQDMzMzMzMx9AMzMzMzMzH0DNzMzMzMweQM3MzMzMzB5AzczMzMzMHkDNzMzMzMweQM3MzMzMzB5AzczMzMzMHkDNzMzMzMweQM3MzMzMzB5AzczMzMzMHkDNzMzMzMweQM3MzMzMzB5AzczMzMzMHkDNzMzMzMweQM3MzMzMzB5AzczMzMzMHkDNzMzMzMweQM3MzMzMzB5AzczMzMzMHkDNzMzMzMweQM3MzMzMzB5AzczMzMzMHkDNzMzMzMweQM3MzMzMzB5AzczMzMzMHkDNzMzMzMweQM3MzMzMzB5AZmZmZmZmHkBmZmZmZmYeQGZmZmZmZh5AZmZmZmZmHkBmZmZmZmYeQGZmZmZmZh5AZmZmZmZmHkBmZmZmZmYeQGZmZmZmZh5AZmZmZmZmHkBmZmZmZmYeQGZmZmZmZh5AZmZmZmZmHkBmZmZmZmYeQGZmZmZmZh5AZmZmZmZmHkBmZmZmZmYeQGZmZmZmZh5AZmZmZmZmHkA=",
          "dtype": "f8"
         },
         "xaxis": "x",
         "y": {
          "bdata": "AAAAzErhv0EAAADDW3CxQQAAAJY/r7NBAAAARetqtEEAAAA7TFCxQQAAAGLqaaZBAAAArJ88s0EAAAAgqSRpQQAAAKZQYKZBAAAAxN2UyUEAAAB98zrEQQAAAFsPtrpBAAAAAMvrWEEAAAAwilx4QQAAAGhBZ4BBAAAAwFXsfEEAAABkdwSfQQAAAGDlGoZBAAAAAOIxOEEAAACs4UiUQQAAAGCDDGpBAAAAuBHygUEAAACgoqioQQAAAIqkWqRBAAAA8GQujEEAAACAArN5QQAAAHAzC5xBAAAAyHxdokEAAAATxbW2QQAAAKyO9ZdBAAAAAICZy0AAAAB69fy3QQAAAKAO2ndBAAAA8LY2dUEAAADwpFh/QQAAAAAAAAAAAAAAAAAAAAAAAAAAFKh7QQAAAP49O6tBAAAAgBE8VUEAAADM3rmVQQAAABjf27NBAAAAPIrylUEAAAAU3MypQQAAAKC06nBBAAAAoBQ7pEEAAACAA6lOQQAAAPC92KBBAACA3T6TwkEAAAC83R2rQQAAALifZY1BAAAAANi1BEEAAAAePzSyQQAAAAAEfR9BAAAAuMF3jkEAAADoNcmQQQAAAACAT4JBAAAAAOiJIEEAAAAOYbajQQAAAFDlQXFBAAAAAMCDD0EAAACApdhTQQAAAHFox7JBAAAAAMxVFUEAAABs2fiXQQAAAPy34qtBAAAAwBrkl0EAAAAAibVZQQAAALBrBXlBAAAAxku5rkEAAABA1jxqQQAAAEWV+rJBAAAAQLvUaUEAAADMowGdQQAAAICJU0JBAAAAUrF0pkEAAADuADikQQAAAIAovoZBAAAArGG4v0EAAAB931K4QQAAAIBDsVlBAAAA3OqImUEAAAAOu8yuQQAAAIAb9UBBAAAAxO1RlkEAAACwdw+yQQAAgHQ2qsZBAAAA0OyOjEEAAAAQ0Yp2QQAAADiNZp5BAAAAAJB9/0AAAABgUImeQQAAABzj2atBAAAA0JSfe0EAAIDhQKbDQQAAACA2iWdBAAAAAOIKh0EAAAAY/9+FQQAAABjgi4BBAAAAeHlyrEEAAAAAuT6qQQAAAHiaxZ1BAAAAWHL3rkEAAAAASNZwQQAAAKFSVrBBAAAASsVFq0EAAAAYIh6XQQAAAOIGdKFBAAAAB5uHsEEAAABVKySyQQAAAOAM5H5BAAAA4KhDeEEAAABAMYx/QQAAAGCiBopBAAAA8OZQcEEAAABoj0KFQQAAAGw/SbFBAAAAeFuTkkEAAAC8pn2aQQAAAHxy3aVBAAAAMBRQcEEAAACgWUyOQQAAAAAAAAAAAAAAGIJvkkEAAAAAgwCSQQAAAADIN2RBAAAAbRM8t0EAAAAYK7WZQQAAADCNfXFBAAAAaK49kUEAAAA4HCPCQQAAAGpO3KhBAAAARBiqqUEAAAA4FOyGQQAAAGZDg65BAAAAQIWtkEEAAAAdiP+xQQAAAIj7s4pBAAAAgFUSb0EAAABAQLlbQQAAAACnaYdBAAAAgBQ9iUEAAADAgCGWQQAAAOCacJxBAAAAcLtydUE=",
          "dtype": "f8"
         },
         "yaxis": "y"
        },
        {
         "customdata": [
          [
           "12 Angry Men"
          ],
          [
           "The Lord of the Rings: The Return of the King"
          ],
          [
           "The Lord of the Rings: The Fellowship of the Ring"
          ],
          [
           "Sen to Chihiro no kamikakushi"
          ],
          [
           "La vita è bella"
          ],
          [
           "Shichinin no samurai"
          ],
          [
           "The Prestige"
          ],
          [
           "The Lion King"
          ],
          [
           "Terminator 2: Judgment Day"
          ],
          [
           "Nuovo Cinema Paradiso"
          ],
          [
           "Hotaru no haka"
          ],
          [
           "Back to the Future"
          ],
          [
           "Once Upon a Time in the West"
          ],
          [
           "Casablanca"
          ],
          [
           "Kimi no na wa."
          ],
          [
           "Spider-Man: Into the Spider-Verse"
          ],
          [
           "Coco"
          ],
          [
           "WALL·E"
          ],
          [
           "Mononoke-hime"
          ],
          [
           "Rear Window"
          ],
          [
           "Amélie"
          ],
          [
           "Good Will Hunting"
          ],
          [
           "Toy Story"
          ],
          [
           "Aliens"
          ],
          [
           "Star Wars: Episode VI - Return of the Jedi"
          ],
          [
           "The Sting"
          ],
          [
           "2001: A Space Odyssey"
          ],
          [
           "Per qualche dollaro in più"
          ],
          [
           "Lawrence of Arabia"
          ],
          [
           "The Apartment"
          ],
          [
           "North by Northwest"
          ],
          [
           "Up"
          ],
          [
           "Chak De! India"
          ],
          [
           "Toy Story 3"
          ],
          [
           "Hauru no ugoku shiro"
          ],
          [
           "Indiana Jones and the Last Crusade"
          ],
          [
           "Tonari no Totoro"
          ],
          [
           "Ran"
          ],
          [
           "The Great Escape"
          ],
          [
           "To Kill a Mockingbird"
          ],
          [
           "Some Like It Hot"
          ],
          [
           "Smultronstället"
          ],
          [
           "Soul"
          ],
          [
           "Ôkami kodomo no Ame to Yuki"
          ],
          [
           "Inside Out"
          ],
          [
           "How to Train Your Dragon"
          ],
          [
           "Finding Nemo"
          ],
          [
           "Monsters, Inc."
          ],
          [
           "Lagaan: Once Upon a Time in India"
          ],
          [
           "La leggenda del pianista sull'oceano"
          ],
          [
           "The Truman Show"
          ],
          [
           "Fa yeung nin wah"
          ],
          [
           "Trois couleurs: Rouge"
          ],
          [
           "Chung Hing sam lam"
          ],
          [
           "Dead Poets Society"
          ],
          [
           "Stand by Me"
          ],
          [
           "Paris, Texas"
          ],
          [
           "Kaze no tani no Naushika"
          ],
          [
           "Rocky"
          ],
          [
           "Paper Moon"
          ],
          [
           "Ben-Hur"
          ],
          [
           "Le salaire de la peur"
          ],
          [
           "Gone with the Wind"
          ],
          [
           "Togo"
          ],
          [
           "Lion"
          ],
          [
           "Zootopia"
          ],
          [
           "Kaguyahime no monogatari"
          ],
          [
           "Wonder"
          ],
          [
           "The King's Speech"
          ],
          [
           "The Pursuit of Happyness"
          ],
          [
           "Bin-jip"
          ],
          [
           "Ratatouille"
          ],
          [
           "Mar adentro"
          ],
          [
           "Kal Ho Naa Ho"
          ],
          [
           "Big Fish"
          ],
          [
           "The Incredibles"
          ],
          [
           "Dancer in the Dark"
          ],
          [
           "The Straight Story"
          ],
          [
           "Secrets & Lies"
          ],
          [
           "The Nightmare Before Christmas"
          ],
          [
           "Groundhog Day"
          ],
          [
           "Aladdin"
          ],
          [
           "Dances with Wolves"
          ],
          [
           "Rain Man"
          ],
          [
           "The Princess Bride"
          ],
          [
           "Der Himmel über Berlin"
          ],
          [
           "Au revoir les enfants"
          ],
          [
           "Tenkû no shiro Rapyuta"
          ],
          [
           "Gandhi"
          ],
          [
           "Kagemusha"
          ],
          [
           "Dog Day Afternoon"
          ],
          [
           "Planet of the Apes"
          ],
          [
           "The Sound of Music"
          ],
          [
           "Brief Encounter"
          ],
          [
           "The Wizard of Oz"
          ],
          [
           "All Quiet on the Western Front"
          ],
          [
           "Marriage Story"
          ],
          [
           "Isle of Dogs"
          ],
          [
           "Star Wars: Episode VII - The Force Awakens"
          ],
          [
           "The Artist"
          ],
          [
           "Life of Pi"
          ],
          [
           "Harry Potter and the Prisoner of Azkaban"
          ],
          [
           "Cowboy Bebop: Tengoku no tobira"
          ],
          [
           "Toy Story 2"
          ],
          [
           "Mimi wo sumaseba"
          ],
          [
           "Trois couleurs: Bleu"
          ],
          [
           "Edward Scissorhands"
          ],
          [
           "My Left Foot: The Story of Christy Brown"
          ],
          [
           "Brazil"
          ],
          [
           "A Christmas Story"
          ],
          [
           "The Blues Brothers"
          ],
          [
           "All the President's Men"
          ],
          [
           "Patton"
          ],
          [
           "In the Heat of the Night"
          ],
          [
           "Charade"
          ],
          [
           "East of Eden"
          ],
          [
           "Notorious"
          ],
          [
           "Paddington 2"
          ],
          [
           "Little Women"
          ],
          [
           "The Lunchbox"
          ],
          [
           "Big Hero 6"
          ],
          [
           "Toy Story 4"
          ],
          [
           "How to Train Your Dragon 2"
          ],
          [
           "Veer-Zaara"
          ],
          [
           "The World's Fastest Indian"
          ],
          [
           "Diarios de motocicleta"
          ],
          [
           "Remember the Titans"
          ],
          [
           "Shrek"
          ],
          [
           "Ed Wood"
          ],
          [
           "What's Eating Gilbert Grape"
          ],
          [
           "The Sandlot"
          ],
          [
           "The Remains of the Day"
          ],
          [
           "The Fugitive"
          ],
          [
           "Awakenings"
          ],
          [
           "Majo no takkyûbin"
          ],
          [
           "Back to the Future Part II"
          ],
          [
           "Ferris Bueller's Day Off"
          ],
          [
           "The Goonies"
          ],
          [
           "The Color Purple"
          ],
          [
           "The King of Comedy"
          ],
          [
           "E.T. the Extra-Terrestrial"
          ],
          [
           "The Conversation"
          ],
          [
           "La planète sauvage"
          ],
          [
           "Willy Wonka & the Chocolate Factory"
          ],
          [
           "My Fair Lady"
          ],
          [
           "Mary Poppins"
          ],
          [
           "Omoide no Mânî"
          ],
          [
           "The Theory of Everything"
          ],
          [
           "Kai po che!"
          ],
          [
           "Wreck-It Ralph"
          ],
          [
           "The Lego Movie"
          ],
          [
           "Gake no ue no Ponyo"
          ],
          [
           "Papurika"
          ],
          [
           "Tangled"
          ],
          [
           "Coraline"
          ],
          [
           "Vampire Hunter D: Bloodlust"
          ],
          [
           "O Brother, Where Art Thou?"
          ],
          [
           "Shine"
          ],
          [
           "A Little Princess"
          ],
          [
           "Il postino"
          ],
          [
           "Malcolm X"
          ],
          [
           "Kurenai no buta"
          ],
          [
           "A Few Good Men"
          ],
          [
           "Barton Fink"
          ],
          [
           "Who Framed Roger Rabbit"
          ],
          [
           "The Last Emperor"
          ],
          [
           "Empire of the Sun"
          ],
          [
           "The Purple Rose of Cairo"
          ],
          [
           "The Verdict"
          ],
          [
           "Star Trek II: The Wrath of Khan"
          ],
          [
           "Ordinary People"
          ],
          [
           "Airplane!"
          ],
          [
           "Rupan sansei: Kariosutoro no shiro"
          ],
          [
           "The Taking of Pelham One Two Three"
          ],
          [
           "Deliverance"
          ],
          [
           "Where Eagles Dare"
          ],
          [
           "A Man for All Seasons"
          ],
          [
           "Zulu"
          ],
          [
           "Moana"
          ],
          [
           "Kari-gurashi no Arietti"
          ],
          [
           "Despicable Me"
          ],
          [
           "Stardust"
          ],
          [
           "The Illusionist"
          ],
          [
           "Un long dimanche de fiançailles"
          ],
          [
           "Finding Neverland"
          ],
          [
           "The Butterfly Effect"
          ],
          [
           "Harry Potter and the Sorcerer's Stone"
          ],
          [
           "Mulan"
          ],
          [
           "Sense and Sensibility"
          ],
          [
           "Apollo 13"
          ],
          [
           "Trois couleurs: Blanc"
          ],
          [
           "Dazed and Confused"
          ],
          [
           "Omohide poro poro"
          ],
          [
           "Home Alone"
          ],
          [
           "The Little Mermaid"
          ],
          [
           "The Naked Gun: From the Files of Police Squad!"
          ],
          [
           "Planes, Trains & Automobiles"
          ],
          [
           "The Muppet Movie"
          ],
          [
           "Watership Down"
          ],
          [
           "Close Encounters of the Third Kind"
          ],
          [
           "The Jungle Book"
          ],
          [
           "A Hard Day's Night"
          ]
         ],
         "hovertemplate": "Certificate=U<br>IMDB_Rating=%{x}<br>Gross=%{y}<br>Series_Title=%{customdata[0]}<extra></extra>",
         "legendgroup": "U",
         "marker": {
          "color": "#00cc96",
          "symbol": "circle"
         },
         "mode": "markers",
         "name": "U",
         "orientation": "v",
         "showlegend": true,
         "type": "scatter",
         "x": {
          "bdata": "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",
          "dtype": "f8"
         },
         "xaxis": "x",
         "y": {
          "bdata": "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",
          "dtype": "f8"
         },
         "yaxis": "y"
        },
        {
         "customdata": [
          [
           "Hamilton"
          ],
          [
           "Jodaeiye Nader az Simin"
          ],
          [
           "Okuribito"
          ],
          [
           "Hotel Rwanda"
          ],
          [
           "Persepolis"
          ],
          [
           "Le scaphandre et le papillon"
          ],
          [
           "Casino Royale"
          ],
          [
           "Touch of Evil"
          ],
          [
           "Sing Street"
          ],
          [
           "Les choristes"
          ],
          [
           "Ying xiong"
          ],
          [
           "Crimes and Misdemeanors"
          ],
          [
           "Hannah and Her Sisters"
          ],
          [
           "The Manchurian Candidate"
          ],
          [
           "Le passé"
          ],
          [
           "Kaze tachinu"
          ],
          [
           "The Boy in the Striped Pyjamas"
          ],
          [
           "Serenity"
          ],
          [
           "Walk the Line"
          ],
          [
           "Les triplettes de Belleville"
          ],
          [
           "The Count of Monte Cristo"
          ],
          [
           "En man som heter Ove"
          ],
          [
           "Me and Earl and the Dying Girl"
          ],
          [
           "Midnight in Paris"
          ],
          [
           "Joyeux Noël"
          ],
          [
           "In America"
          ],
          [
           "I Am Sam"
          ],
          [
           "Le dîner de cons"
          ],
          [
           "Fried Green Tomatoes"
          ],
          [
           "Rebel Without a Cause"
          ],
          [
           "Dark Waters"
          ],
          [
           "Gifted"
          ],
          [
           "The Peanut Butter Falcon"
          ],
          [
           "Mustang"
          ],
          [
           "Philomena"
          ],
          [
           "True Grit"
          ],
          [
           "Moneyball"
          ],
          [
           "Sherlock Holmes"
          ],
          [
           "The Visitor"
          ],
          [
           "La Vie En Rose"
          ],
          [
           "Huo Yuan Jia"
          ],
          [
           "The Others"
          ]
         ],
         "hovertemplate": "Certificate=PG-13<br>IMDB_Rating=%{x}<br>Gross=%{y}<br>Series_Title=%{customdata[0]}<extra></extra>",
         "legendgroup": "PG-13",
         "marker": {
          "color": "#ab63fa",
          "symbol": "circle"
         },
         "mode": "markers",
         "name": "PG-13",
         "orientation": "v",
         "showlegend": true,
         "type": "scatter",
         "x": {
          "bdata": "MzMzMzMzIUCamZmZmZkgQDMzMzMzMyBAMzMzMzMzIEAAAAAAAAAgQAAAAAAAACBAAAAAAAAAIEAAAAAAAAAgQJqZmZmZmR9AmpmZmZmZH0CamZmZmZkfQJqZmZmZmR9AmpmZmZmZH0CamZmZmZkfQDMzMzMzMx9AMzMzMzMzH0AzMzMzMzMfQDMzMzMzMx9AMzMzMzMzH0AzMzMzMzMfQDMzMzMzMx9AzczMzMzMHkDNzMzMzMweQM3MzMzMzB5AzczMzMzMHkDNzMzMzMweQM3MzMzMzB5AzczMzMzMHkDNzMzMzMweQM3MzMzMzB5AZmZmZmZmHkBmZmZmZmYeQGZmZmZmZh5AZmZmZmZmHkBmZmZmZmYeQGZmZmZmZh5AZmZmZmZmHkBmZmZmZmYeQGZmZmZmZh5AZmZmZmZmHkBmZmZmZmYeQGZmZmZmZh5A",
          "dtype": "f8"
         },
         "xaxis": "x",
         "y": {
          "bdata": "AAAAAAAAAAAAAAAAHxRbQQAAAABi3DZBAAAAwNhwdkEAAAAAj/VQQQAAAMCu2VZBAAAAkAv2o0EAAACAbRJBQQAAAAB/skhBAAAAAO67S0EAAAAYZpyJQQAAAOC2aHFBAAAASBIdg0EAAAAAAAAAAAAAAACkTTRBAAAAAHvfU0EAAACgdjlhQQAAAFAhVXhBAAAAqOJ+nEEAAADAI7ZaQQAAAHBe3IlBAAAAAJufSUEAAAAAuLlZQQAAALCgF4tBAAAAAJkWMEEAAABAiKNtQQAAAGDhOINBAAAAAK4DT0EAAAAUbaaTQQAAAAAAAAAAAAAAAAAAAAAAAADA+6Z3QQAAAECKB2lBAAAAADDNKUEAAAA4/vqBQQAAAPrraaRBAAAA0JcGkkEAAACODOuoQQAAAMDK+GFBAAAAQCGmY0EAAAAgGH53QQAAAPxGA5dB",
          "dtype": "f8"
         },
         "yaxis": "y"
        },
        {
         "customdata": [
          [
           "Saving Private Ryan"
          ],
          [
           "The Pianist"
          ],
          [
           "American History X"
          ],
          [
           "Apocalypse Now"
          ],
          [
           "Alien"
          ],
          [
           "1917"
          ],
          [
           "Jagten"
          ],
          [
           "Incendies"
          ],
          [
           "Reservoir Dogs"
          ],
          [
           "Amadeus"
          ],
          [
           "Das Boot"
          ],
          [
           "El secreto de sus ojos"
          ],
          [
           "Der Untergang"
          ],
          [
           "Portrait de la jeune fille en feu"
          ],
          [
           "Mommy"
          ],
          [
           "Room"
          ],
          [
           "Relatos salvajes"
          ],
          [
           "Gran Torino"
          ],
          [
           "Into the Wild"
          ],
          [
           "No Country for Old Men"
          ],
          [
           "Taegukgi hwinalrimyeo"
          ],
          [
           "Before Sunset"
          ],
          [
           "Kill Bill: Vol. 1"
          ],
          [
           "Crna macka, beli macor"
          ],
          [
           "The Big Lebowski"
          ],
          [
           "Before Sunrise"
          ],
          [
           "Life of Brian"
          ],
          [
           "Short Term 12"
          ],
          [
           "Deadpool"
          ],
          [
           "Yip Man"
          ],
          [
           "Tropa de Elite"
          ],
          [
           "Dallas Buyers Club"
          ],
          [
           "Bom Yeoareum Gaeul Gyeoul Geurigo Bom"
          ],
          [
           "Dogville"
          ],
          [
           "Donnie Darko"
          ],
          [
           "Magnolia"
          ],
          [
           "Festen"
          ],
          [
           "Central do Brasil"
          ],
          [
           "Sling Blade"
          ],
          [
           "Bound by Honor"
          ],
          [
           "Do the Right Thing"
          ],
          [
           "Papillon"
          ],
          [
           "The Last Picture Show"
          ],
          [
           "Captain Fantastic"
          ],
          [
           "Before Midnight"
          ],
          [
           "The Irishman"
          ],
          [
           "Moon"
          ],
          [
           "Låt den rätte komma in"
          ],
          [
           "In Bruges"
          ],
          [
           "The Fall"
          ],
          [
           "Gegen die Wand"
          ],
          [
           "Hable con ella"
          ],
          [
           "No Man's Land"
          ],
          [
           "Nueve reinas"
          ],
          [
           "Mulholland Dr."
          ],
          [
           "Boogie Nights"
          ],
          [
           "True Romance"
          ],
          [
           "This Is Spinal Tap"
          ],
          [
           "Manhattan"
          ],
          [
           "La montaña sagrada"
          ],
          [
           "Sound of Metal"
          ],
          [
           "Under sandet"
          ],
          [
           "Pride"
          ],
          [
           "About Time"
          ],
          [
           "La migliore offerta"
          ],
          [
           "The Girl with the Dragon Tattoo"
          ],
          [
           "Straight Outta Compton"
          ],
          [
           "Madeo"
          ],
          [
           "Män som hatar kvinnor"
          ],
          [
           "The Trial of the Chicago 7"
          ],
          [
           "Once"
          ],
          [
           "Atonement"
          ],
          [
           "Mr. Nobody"
          ],
          [
           "Adams æbler"
          ],
          [
           "Lilja 4-ever"
          ],
          [
           "Waking Life"
          ],
          [
           "Todo sobre mi madre"
          ],
          [
           "The Boondock Saints"
          ],
          [
           "Breaking the Waves"
          ],
          [
           "Tombstone"
          ],
          [
           "A Bronx Tale"
          ],
          [
           "Night on Earth"
          ],
          [
           "La double vie de Véronique"
          ],
          [
           "Misery"
          ],
          [
           "Glory"
          ],
          [
           "Dip huet seung hung"
          ],
          [
           "Down by Law"
          ],
          [
           "Roma"
          ],
          [
           "Deadpool 2"
          ],
          [
           "Wind River"
          ],
          [
           "Get Out"
          ],
          [
           "What We Do in the Shadows"
          ],
          [
           "Frost/Nixon"
          ],
          [
           "Changeling"
          ],
          [
           "Efter brylluppet"
          ],
          [
           "The Last King of Scotland"
          ],
          [
           "Lucky Number Slevin"
          ],
          [
           "Control"
          ],
          [
           "Zwartboek"
          ],
          [
           "The Machinist"
          ],
          [
           "The Magdalene Sisters"
          ],
          [
           "Good Bye Lenin!"
          ],
          [
           "Adaptation."
          ],
          [
           "Das Experiment"
          ],
          [
           "Billy Elliot"
          ],
          [
           "Hedwig and the Angry Inch"
          ],
          [
           "Office Space"
          ],
          [
           "Being John Malkovich"
          ],
          [
           "Clerks"
          ],
          [
           "Short Cuts"
          ],
          [
           "Glengarry Glen Ross"
          ],
          [
           "Miller's Crossing"
          ],
          [
           "Withnail & I"
          ],
          [
           "Der Name der Rose"
          ],
          [
           "Le locataire"
          ],
          [
           "Nelyubov"
          ],
          [
           "Leviafan"
          ],
          [
           "Hell or High Water"
          ],
          [
           "Hævnen"
          ],
          [
           "50/50"
          ],
          [
           "La piel que habito"
          ],
          [
           "Eastern Promises"
          ],
          [
           "Inside Man"
          ],
          [
           "Gone Baby Gone"
          ],
          [
           "Match Point"
          ],
          [
           "Lord of War"
          ],
          [
           "Synecdoche, New York"
          ],
          [
           "Mysterious Skin"
          ],
          [
           "Jeux d'enfants"
          ],
          [
           "The Station Agent"
          ],
          [
           "Boksuneun naui geot"
          ],
          [
           "25th Hour"
          ],
          [
           "Blow"
          ],
          [
           "The Hurricane"
          ],
          [
           "Fear and Loathing in Las Vegas"
          ],
          [
           "Dead Man"
          ],
          [
           "Falling Down"
          ],
          [
           "Delicatessen"
          ]
         ],
         "hovertemplate": "Certificate=R<br>IMDB_Rating=%{x}<br>Gross=%{y}<br>Series_Title=%{customdata[0]}<extra></extra>",
         "legendgroup": "R",
         "marker": {
          "color": "#FFA15A",
          "symbol": "circle"
         },
         "mode": "markers",
         "name": "R",
         "orientation": "v",
         "showlegend": true,
         "type": "scatter",
         "x": {
          "bdata": "MzMzMzMzIUAAAAAAAAAhQAAAAAAAACFAzczMzMzMIEDNzMzMzMwgQJqZmZmZmSBAmpmZmZmZIECamZmZmZkgQJqZmZmZmSBAmpmZmZmZIECamZmZmZkgQGZmZmZmZiBAZmZmZmZmIEAzMzMzMzMgQDMzMzMzMyBAMzMzMzMzIEAzMzMzMzMgQDMzMzMzMyBAMzMzMzMzIEAzMzMzMzMgQDMzMzMzMyBAMzMzMzMzIEAzMzMzMzMgQDMzMzMzMyBAMzMzMzMzIEAzMzMzMzMgQDMzMzMzMyBAAAAAAAAAIEAAAAAAAAAgQAAAAAAAACBAAAAAAAAAIEAAAAAAAAAgQAAAAAAAACBAAAAAAAAAIEAAAAAAAAAgQAAAAAAAACBAAAAAAAAAIEAAAAAAAAAgQAAAAAAAACBAAAAAAAAAIEAAAAAAAAAgQAAAAAAAACBAAAAAAAAAIECamZmZmZkfQJqZmZmZmR9AmpmZmZmZH0CamZmZmZkfQJqZmZmZmR9AmpmZmZmZH0CamZmZmZkfQJqZmZmZmR9AmpmZmZmZH0CamZmZmZkfQJqZmZmZmR9AmpmZmZmZH0CamZmZmZkfQJqZmZmZmR9AmpmZmZmZH0CamZmZmZkfQJqZmZmZmR9AMzMzMzMzH0AzMzMzMzMfQDMzMzMzMx9AMzMzMzMzH0AzMzMzMzMfQDMzMzMzMx9AMzMzMzMzH0AzMzMzMzMfQDMzMzMzMx9AMzMzMzMzH0AzMzMzMzMfQDMzMzMzMx9AMzMzMzMzH0AzMzMzMzMfQDMzMzMzMx9AMzMzMzMzH0AzMzMzMzMfQDMzMzMzMx9AMzMzMzMzH0AzMzMzMzMfQDMzMzMzMx9AMzMzMzMzH0AzMzMzMzMfQDMzMzMzMx9AMzMzMzMzH0AzMzMzMzMfQDMzMzMzMx9AzczMzMzMHkDNzMzMzMweQM3MzMzMzB5AzczMzMzMHkDNzMzMzMweQM3MzMzMzB5AzczMzMzMHkDNzMzMzMweQM3MzMzMzB5AzczMzMzMHkDNzMzMzMweQM3MzMzMzB5AzczMzMzMHkDNzMzMzMweQM3MzMzMzB5AzczMzMzMHkDNzMzMzMweQM3MzMzMzB5AzczMzMzMHkDNzMzMzMweQM3MzMzMzB5AzczMzMzMHkDNzMzMzMweQM3MzMzMzB5AzczMzMzMHkDNzMzMzMweQM3MzMzMzB5AzczMzMzMHkBmZmZmZmYeQGZmZmZmZh5AZmZmZmZmHkBmZmZmZmYeQGZmZmZmZh5AZmZmZmZmHkBmZmZmZmYeQGZmZmZmZh5AZmZmZmZmHkBmZmZmZmYeQGZmZmZmZh5AZmZmZmZmHkBmZmZmZmYeQGZmZmZmZh5AZmZmZmZmHkBmZmZmZmYeQGZmZmZmZh5AZmZmZmZmHkBmZmZmZmYeQGZmZmZmZh5AZmZmZmZmHkBmZmZmZmYeQGZmZmZmZh5A",
          "dtype": "f8"
         },
         "xaxis": "x",
         "y": {
          "bdata": "AAAA2k3QqUEAAAAQShB/QQAAAABeollBAAAAXLLmk0EAAACArM+SQQAAAPg9+6JBAAAAAKL4JEEAAAAAYihaQQAAAIBOm0VBAAAAKF3IiEEAAACAN+llQQAAAACjYVhBAAAAAOwDVUEAAAAAd69MQQAAAADJpUpBAAAAQNX+a0EAAAAAgLRHQQAAAIyCp6FBAAAAQAuBcUEAAACk6bWRQQAAAAAV9DBBAAAAQDo0VkEAAACUgbaQQQAAAADQRxVBAAAAQCuwcEEAAABAqx1VQQAAALDTHXNBAAAAANzVLkEAAAD1BKS1QQAAAAAAAAAAAAAAAAB8v0AAAADQngh6QQAAAAD6KUJBAAAAABJaN0EAAAAARpU2QQAAAIBqanVBAAAAAKQkOUEAAAAASVhVQQAAAIBxV3dBAAAAwDEnUUEAAABQ9kR6QQAAAMBRZolBAAAAgIzIe0EAAACAT2lWQQAAAMBw9F5BAAAAAPCzWkEAAABAQxxTQQAAAICoMEBBAAAAgFKXXUEAAAAAzmVBQQAAAAAAAAAAAAAAIFW1YUEAAAAA9iswQQAAAACNojJBAAAAwASLW0EAAAAAeC15QQAAAIDTbGdBAAAAAHgKB0EAAAAAncqFQQAAAAAgye1AAAAAAAAAAAAAAAAACJEaQQAAAAAAAAAAAAAAIOU5bUEAAAAAkNv0QAAAAEQRcZhBAAAAsl03o0EAAAAAuLMgQQAAAEBIQWNBAAAAAAAAAAAAAABgVgFiQQAAANiuSIhBAAAAAAAgrEAAAAAAAGSUQAAAAAC4LAZBAAAAgHUQRkEAAACA1IZfQQAAAAAANdlAAAAAgPnTTkEAAABIl/GKQQAAALCRd3BBAAAAAELCPkEAAAAAU4Q+QQAAAEAWOI1BAAAAAEuWeUEAAAAAAAAAAAAAAABg6TVBAAAAAAAAAAAAAAB34FizQQAAANgUHoBBAAAAslX8pEEAAAAAxG1JQQAAAEBYu3FBAAAA0MQKgUEAAAAAAC4ZQQAAAFBOynBBAAAAcNFzdUEAAAAAMpkqQQAAAABOx1BBAAAAAFuFMEEAAACAP6hSQQAAAADkAU9BAAAAUB43dUEAAAAAgDgBQQAAAPDv+XRBAAAAgCwcR0EAAAAgm6VkQQAAAODKzHVBAAAAAI0KSEEAAADAwE9XQQAAAIDtdGRBAAAAQFZhU0EAAAAAuZI3QQAAAMDTSVtBAAAAAH1ePUEAAAAAqEghQQAAAADArDBBAAAAIDeeeUEAAAAAxMMuQQAAAIAxsoBBAAAAAEpOSEEAAAAgcFJwQQAAAFxvGpVBAAAAoBtcc0EAAABgMAV2QQAAAADoB3dBAAAAgGKDR0EAAAAAukYlQQAAAADGviBBAAAAANzkVUEAAAAAIB3mQAAAAGBd6WhBAAAAuJlEiUEAAABQKymIQQAAAGD6XmRBAAAAAC6sL0EAAABIHYGDQQAAAACLYDtB",
          "dtype": "f8"
         },
         "yaxis": "y"
        },
        {
         "customdata": [
          [
           "Seppuku"
          ],
          [
           "Metropolis"
          ],
          [
           "Mandariinid"
          ],
          [
           "Du rififi chez les hommes"
          ],
          [
           "Rashômon"
          ],
          [
           "Kis Uykusu"
          ],
          [
           "Persona"
          ],
          [
           "La battaglia di Algeri"
          ],
          [
           "The Man Who Shot Liberty Valance"
          ],
          [
           "The Shop Around the Corner"
          ],
          [
           "Tropa de Elite 2: O Inimigo Agora é Outro"
          ],
          [
           "Vozvrashchenie"
          ],
          [
           "8½"
          ],
          [
           "Anatomy of a Murder"
          ],
          [
           "The Night of the Hunter"
          ],
          [
           "Stalag 17"
          ],
          [
           "Roman Holiday"
          ],
          [
           "The Maltese Falcon"
          ],
          [
           "Bronenosets Potemkin"
          ],
          [
           "Bir Zamanlar Anadolu'da"
          ],
          [
           "4 luni, 3 saptamâni si 2 zile"
          ],
          [
           "C.R.A.Z.Y."
          ],
          [
           "Night of the Living Dead"
          ],
          [
           "Miracle on 34th Street"
          ],
          [
           "The Philadelphia Story"
          ],
          [
           "Freaks"
          ],
          [
           "La grande bellezza"
          ],
          [
           "Ang-ma-reul bo-at-da"
          ],
          [
           "Chugyeokja"
          ],
          [
           "Druk"
          ],
          [
           "Auf der anderen Seite"
          ],
          [
           "Ondskan"
          ],
          [
           "Gongdong gyeongbi guyeok JSA"
          ],
          [
           "Naked"
          ],
          [
           "Wait Until Dark"
          ],
          [
           "Guess Who's Coming to Dinner"
          ],
          [
           "Jules et Jim"
          ],
          [
           "The Lady Vanishes"
          ],
          [
           "Bride of Frankenstein"
          ],
          [
           "Duck Soup"
          ],
          [
           "God's Own Country"
          ],
          [
           "The Broken Circle Breakdown"
          ],
          [
           "Detachment"
          ],
          [
           "Beasts of No Nation"
          ],
          [
           "This Is England"
          ],
          [
           "Happiness"
          ],
          [
           "The Dirty Dozen"
          ],
          [
           "Repulsion"
          ],
          [
           "Les yeux sans visage"
          ],
          [
           "The Ladykillers"
          ],
          [
           "Victoria"
          ],
          [
           "The Secret of Kells"
          ],
          [
           "Dead Man's Shoes"
          ],
          [
           "Batoru rowaiaru"
          ],
          [
           "Lifeboat"
          ],
          [
           "The 39 Steps"
          ]
         ],
         "hovertemplate": "Certificate=NR<br>IMDB_Rating=%{x}<br>Gross=%{y}<br>Series_Title=%{customdata[0]}<extra></extra>",
         "legendgroup": "NR",
         "marker": {
          "color": "#19d3f3",
          "symbol": "circle"
         },
         "mode": "markers",
         "name": "NR",
         "orientation": "v",
         "showlegend": true,
         "type": "scatter",
         "x": {
          "bdata": "MzMzMzMzIUCamZmZmZkgQGZmZmZmZiBAZmZmZmZmIEBmZmZmZmYgQDMzMzMzMyBAMzMzMzMzIEAzMzMzMzMgQDMzMzMzMyBAMzMzMzMzIEAAAAAAAAAgQAAAAAAAACBAAAAAAAAAIEAAAAAAAAAgQAAAAAAAACBAAAAAAAAAIEAAAAAAAAAgQAAAAAAAACBAAAAAAAAAIECamZmZmZkfQJqZmZmZmR9AmpmZmZmZH0CamZmZmZkfQJqZmZmZmR9AmpmZmZmZH0CamZmZmZkfQDMzMzMzMx9AMzMzMzMzH0AzMzMzMzMfQDMzMzMzMx9AMzMzMzMzH0AzMzMzMzMfQDMzMzMzMx9AMzMzMzMzH0AzMzMzMzMfQDMzMzMzMx9AMzMzMzMzH0AzMzMzMzMfQDMzMzMzMx9AMzMzMzMzH0DNzMzMzMweQM3MzMzMzB5AzczMzMzMHkDNzMzMzMweQM3MzMzMzB5AzczMzMzMHkDNzMzMzMweQM3MzMzMzB5AzczMzMzMHkDNzMzMzMweQGZmZmZmZh5AZmZmZmZmHkBmZmZmZmYeQGZmZmZmZh5AZmZmZmZmHkBmZmZmZmYeQA==",
          "dtype": "f8"
         },
         "xaxis": "x",
         "y": {
          "bdata": "AAAAAAAAAAAAAAAAxtwyQQAAAACoowFBAAAAAEDx60AAAAAAgJP3QAAAAACANARBAAAAAAAAAAAAAAAAgEzrQAAAAAAAAAAAAAAAACDRCEEAAAAAcHH4QAAAAAAwpB5BAAAAAEDA6EAAAAAAjLJmQQAAAABg9SNBAAAAAAAAAAAAAAAAAAAAAAAAAABOFUBBAAAAAEDj6EAAAAAAUO8AQQAAAAD3FzJBAAAAAAAAAAAAAAAAULz1QAAAAADIN0RBAAAAAAAAAAAAAAAAAAAAAAAAAAAYw0VBAAAAAIBY/0AAAAAAAAAAAAAAAAAAAAAAAAAAAEafJkEAAAAAANjNQAAAAAAAAAAAAAAAAFn/OkEAAABQ2bxwQQAAAABjCYtBAAAAAAAAAAAAAAAAAAAAAAAAAADQoVBBAAAAAAAAAAAAAAAA5HsUQQAAAACQXgVBAAAAAJBg8UAAAAAAUHn0QAAAAAC8AxRBAAAAAC9rRUEAAAAAyZmFQQAAAAAAAAAAAAAAAKC86UAAAAAAAAAAAAAAAAAAAAAAAAAAAF7yJEEAAAAAAH23QAAAAAAAAAAAAAAAAAAAAAAAAAAAAAAAAA==",
          "dtype": "f8"
         },
         "yaxis": "y"
        },
        {
         "customdata": [
          [
           "It's a Wonderful Life"
          ],
          [
           "Bacheha-Ye aseman"
          ],
          [
           "Klaus"
          ],
          [
           "Monty Python and the Holy Grail"
          ],
          [
           "Song of the Sea"
          ],
          [
           "Barry Lyndon"
          ],
          [
           "Solaris"
          ],
          [
           "The Bridge on the River Kwai"
          ],
          [
           "The Iron Giant"
          ],
          [
           "Being There"
          ],
          [
           "Butch Cassidy and the Sundance Kid"
          ],
          [
           "Fantastic Mr. Fox"
          ],
          [
           "Le charme discret de la bourgeoisie"
          ],
          [
           "Harold and Maude"
          ],
          [
           "High Noon"
          ],
          [
           "The Adventures of Robin Hood"
          ],
          [
           "Kubo and the Two Strings"
          ],
          [
           "Pride & Prejudice"
          ],
          [
           "October Sky"
          ],
          [
           "The Right Stuff"
          ],
          [
           "Days of Heaven"
          ],
          [
           "The Man Who Would Be King"
          ],
          [
           "Badlands"
          ],
          [
           "Shadow of a Doubt"
          ],
          [
           "Scarface: The Shame of the Nation"
          ],
          [
           "Le Petit Prince"
          ],
          [
           "Flipped"
          ],
          [
           "Love and Death"
          ],
          [
           "The African Queen"
          ],
          [
           "Giù la testa"
          ]
         ],
         "hovertemplate": "Certificate=PG<br>IMDB_Rating=%{x}<br>Gross=%{y}<br>Series_Title=%{customdata[0]}<extra></extra>",
         "legendgroup": "PG",
         "marker": {
          "color": "#FF6692",
          "symbol": "circle"
         },
         "mode": "markers",
         "name": "PG",
         "orientation": "v",
         "showlegend": true,
         "type": "scatter",
         "x": {
          "bdata": "MzMzMzMzIUCamZmZmZkgQGZmZmZmZiBAZmZmZmZmIEAzMzMzMzMgQDMzMzMzMyBAMzMzMzMzIEAzMzMzMzMgQAAAAAAAACBAAAAAAAAAIEAAAAAAAAAgQJqZmZmZmR9AmpmZmZmZH0CamZmZmZkfQJqZmZmZmR9AmpmZmZmZH0AzMzMzMzMfQDMzMzMzMx9AMzMzMzMzH0AzMzMzMzMfQDMzMzMzMx9AMzMzMzMzH0AzMzMzMzMfQDMzMzMzMx9AMzMzMzMzH0DNzMzMzMweQM3MzMzMzB5AzczMzMzMHkDNzMzMzMweQGZmZmZmZh5A",
          "dtype": "f8"
         },
         "xaxis": "x",
         "y": {
          "bdata": "AAAAAAAAAAAAAAAAWoAsQQAAAAAAAAAAAAAAAI3BMkEAAAAAaCsqQQAAAAAAAAAAAAAAAAAAAAAAAAAA72mFQQAAAJAgFnZBAAAAcI7HfEEAAABkcGSYQQAAAHCqB3RBAAAAAMhECEEAAAAAAAAAAAAAAABCBmJBAAAAAGRfTkEAAACAMeaGQQAAAAAfUIJBAAAAECL6fkEAAAAABoF0QQAAAAAAAAAAAAAAAAAAAAAAAAAAAAAAAAAAAAAAAAAAAAAAAAAAAAAAAAAAEG80QQAAAACWvDpBAAAAAAAAAAAAAAAAbFwgQQAAAADkQiVB",
          "dtype": "f8"
         },
         "yaxis": "y"
        },
        {
         "customdata": [
          [
           "Modern Times"
          ],
          [
           "City Lights"
          ],
          [
           "Singin' in the Rain"
          ],
          [
           "Beauty and the Beast"
          ],
          [
           "Fiddler on the Roof"
          ],
          [
           "The Longest Day"
          ],
          [
           "The Muppet Christmas Carol"
          ],
          [
           "The Odd Couple"
          ],
          [
           "Fantasia"
          ],
          [
           "Giant"
          ]
         ],
         "hovertemplate": "Certificate=G<br>IMDB_Rating=%{x}<br>Gross=%{y}<br>Series_Title=%{customdata[0]}<extra></extra>",
         "legendgroup": "G",
         "marker": {
          "color": "#B6E880",
          "symbol": "circle"
         },
         "mode": "markers",
         "name": "G",
         "orientation": "v",
         "showlegend": true,
         "type": "scatter",
         "x": {
          "bdata": "AAAAAAAAIUAAAAAAAAAhQJqZmZmZmSBAAAAAAAAAIEAAAAAAAAAgQDMzMzMzMx9AzczMzMzMHkDNzMzMzMweQM3MzMzMzB5AZmZmZmZmHkA=",
          "dtype": "f8"
         },
         "xaxis": "x",
         "y": {
          "bdata": "AAAAAGjtA0EAAAAAQLvSQAAAAIAq0mBBAAAAiFwaqkEAAACAVDGTQQAAAADzpIJBAAAAMIYEekEAAAAQdDuFQQAAAISUN5JBAAAAAAAAAAA=",
          "dtype": "f8"
         },
         "yaxis": "y"
        },
        {
         "customdata": [
          [
           "Double Indemnity"
          ],
          [
           "All About Eve"
          ],
          [
           "The Treasure of the Sierra Madre"
          ],
          [
           "To Be or Not to Be"
          ],
          [
           "What Ever Happened to Baby Jane?"
          ],
          [
           "Inherit the Wind"
          ],
          [
           "Mr. Smith Goes to Washington"
          ],
          [
           "The Circus"
          ],
          [
           "Rio Bravo"
          ],
          [
           "The Grapes of Wrath"
          ],
          [
           "The Searchers"
          ],
          [
           "King Kong"
          ],
          [
           "Stagecoach"
          ],
          [
           "Bringing Up Baby"
          ],
          [
           "Frankenstein"
          ],
          [
           "Cape Fear"
          ],
          [
           "Sabrina"
          ],
          [
           "From Here to Eternity"
          ]
         ],
         "hovertemplate": "Certificate=Passed<br>IMDB_Rating=%{x}<br>Gross=%{y}<br>Series_Title=%{customdata[0]}<extra></extra>",
         "legendgroup": "Passed",
         "marker": {
          "color": "#FF97FF",
          "symbol": "circle"
         },
         "mode": "markers",
         "name": "Passed",
         "orientation": "v",
         "showlegend": true,
         "type": "scatter",
         "x": {
          "bdata": "mpmZmZmZIEBmZmZmZmYgQGZmZmZmZiBAZmZmZmZmIEAzMzMzMzMgQDMzMzMzMyBAMzMzMzMzIEAzMzMzMzMgQAAAAAAAACBAAAAAAAAAIECamZmZmZkfQJqZmZmZmR9AMzMzMzMzH0AzMzMzMzMfQDMzMzMzMx9AzczMzMzMHkDNzMzMzMweQGZmZmZmZh5A",
          "dtype": "f8"
         },
         "xaxis": "x",
         "y": {
          "bdata": "AAAAAPDRVUEAAAAAgODDQAAAAAB8IFNBAAAAAAAAAAAAAAAAKOZOQQAAAAAAAAAAAAAAAIBPYkEAAAAAAAAAAAAAAACb6GdBAAAAAADb6kAAAAAAAAAAAAAAAADQEmNBAAAAAAAAAAAAAAAAAAAAAAAAAAAAAAAAAAAAAAAAAAAAAAAAAAAAAAAAAABKFn1B",
          "dtype": "f8"
         },
         "yaxis": "y"
        },
        {
         "customdata": [
          [
           "Koe no katachi"
          ]
         ],
         "hovertemplate": "Certificate=16<br>IMDB_Rating=%{x}<br>Gross=%{y}<br>Series_Title=%{customdata[0]}<extra></extra>",
         "legendgroup": "16",
         "marker": {
          "color": "#FECB52",
          "symbol": "circle"
         },
         "mode": "markers",
         "name": "16",
         "orientation": "v",
         "showlegend": true,
         "type": "scatter",
         "x": {
          "bdata": "MzMzMzMzIEA=",
          "dtype": "f8"
         },
         "xaxis": "x",
         "y": {
          "bdata": "AAAAAAAAAAA=",
          "dtype": "f8"
         },
         "yaxis": "y"
        },
        {
         "customdata": [
          [
           "Ace in the Hole"
          ],
          [
           "The Third Man"
          ],
          [
           "Rebecca"
          ],
          [
           "It Happened One Night"
          ],
          [
           "Sweet Smell of Success"
          ],
          [
           "The Killing"
          ],
          [
           "The Best Years of Our Lives"
          ],
          [
           "The Magnificent Seven"
          ],
          [
           "Invasion of the Body Snatchers"
          ]
         ],
         "hovertemplate": "Certificate=Approved<br>IMDB_Rating=%{x}<br>Gross=%{y}<br>Series_Title=%{customdata[0]}<extra></extra>",
         "legendgroup": "Approved",
         "marker": {
          "color": "#636efa",
          "symbol": "circle"
         },
         "mode": "markers",
         "name": "Approved",
         "orientation": "v",
         "showlegend": true,
         "type": "scatter",
         "x": {
          "bdata": "MzMzMzMzIEAzMzMzMzMgQDMzMzMzMyBAMzMzMzMzIEAAAAAAAAAgQAAAAAAAACBAAAAAAAAAIEDNzMzMzMweQM3MzMzMzB5A",
          "dtype": "f8"
         },
         "xaxis": "x",
         "y": {
          "bdata": "AAAAgLJJTkEAAAAAnGobQQAAAADQoVBBAAAAANChUEEAAAAAAAAAAAAAAAAAAAAAAAAAAO2NdkEAAAAACrZSQQAAAAAAAAAA",
          "dtype": "f8"
         },
         "yaxis": "y"
        },
        {
         "customdata": [
          [
           "Darbareye Elly"
          ],
          [
           "The Thin Man"
          ],
          [
           "The Invisible Man"
          ]
         ],
         "hovertemplate": "Certificate=TV-PG<br>IMDB_Rating=%{x}<br>Gross=%{y}<br>Series_Title=%{customdata[0]}<extra></extra>",
         "legendgroup": "TV-PG",
         "marker": {
          "color": "#EF553B",
          "symbol": "circle"
         },
         "mode": "markers",
         "name": "TV-PG",
         "orientation": "v",
         "showlegend": true,
         "type": "scatter",
         "x": {
          "bdata": "AAAAAAAAIEAAAAAAAAAgQM3MzMzMzB5A",
          "dtype": "f8"
         },
         "xaxis": "x",
         "y": {
          "bdata": "AAAAAGAK+kAAAAAAAAAAAAAAAAAAAAAA",
          "dtype": "f8"
         },
         "yaxis": "y"
        },
        {
         "customdata": [
          [
           "Searching"
          ]
         ],
         "hovertemplate": "Certificate=U/A<br>IMDB_Rating=%{x}<br>Gross=%{y}<br>Series_Title=%{customdata[0]}<extra></extra>",
         "legendgroup": "U/A",
         "marker": {
          "color": "#00cc96",
          "symbol": "circle"
         },
         "mode": "markers",
         "name": "U/A",
         "orientation": "v",
         "showlegend": true,
         "type": "scatter",
         "x": {
          "bdata": "ZmZmZmZmHkA=",
          "dtype": "f8"
         },
         "xaxis": "x",
         "y": {
          "bdata": "AAAA0MXQeEE=",
          "dtype": "f8"
         },
         "yaxis": "y"
        },
        {
         "customdata": [
          [
           "Kelly's Heroes"
          ]
         ],
         "hovertemplate": "Certificate=GP<br>IMDB_Rating=%{x}<br>Gross=%{y}<br>Series_Title=%{customdata[0]}<extra></extra>",
         "legendgroup": "GP",
         "marker": {
          "color": "#ab63fa",
          "symbol": "circle"
         },
         "mode": "markers",
         "name": "GP",
         "orientation": "v",
         "showlegend": true,
         "type": "scatter",
         "x": {
          "bdata": "ZmZmZmZmHkA=",
          "dtype": "f8"
         },
         "xaxis": "x",
         "y": {
          "bdata": "AAAAAIMINUE=",
          "dtype": "f8"
         },
         "yaxis": "y"
        }
       ],
       "layout": {
        "legend": {
         "title": {
          "text": "Certificate"
         },
         "tracegroupgap": 0
        },
        "margin": {
         "t": 60
        },
        "template": {
         "data": {
          "bar": [
           {
            "error_x": {
             "color": "#2a3f5f"
            },
            "error_y": {
             "color": "#2a3f5f"
            },
            "marker": {
             "line": {
              "color": "#E5ECF6",
              "width": 0.5
             },
             "pattern": {
              "fillmode": "overlay",
              "size": 10,
              "solidity": 0.2
             }
            },
            "type": "bar"
           }
          ],
          "barpolar": [
           {
            "marker": {
             "line": {
              "color": "#E5ECF6",
              "width": 0.5
             },
             "pattern": {
              "fillmode": "overlay",
              "size": 10,
              "solidity": 0.2
             }
            },
            "type": "barpolar"
           }
          ],
          "carpet": [
           {
            "aaxis": {
             "endlinecolor": "#2a3f5f",
             "gridcolor": "white",
             "linecolor": "white",
             "minorgridcolor": "white",
             "startlinecolor": "#2a3f5f"
            },
            "baxis": {
             "endlinecolor": "#2a3f5f",
             "gridcolor": "white",
             "linecolor": "white",
             "minorgridcolor": "white",
             "startlinecolor": "#2a3f5f"
            },
            "type": "carpet"
           }
          ],
          "choropleth": [
           {
            "colorbar": {
             "outlinewidth": 0,
             "ticks": ""
            },
            "type": "choropleth"
           }
          ],
          "contour": [
           {
            "colorbar": {
             "outlinewidth": 0,
             "ticks": ""
            },
            "colorscale": [
             [
              0,
              "#0d0887"
             ],
             [
              0.1111111111111111,
              "#46039f"
             ],
             [
              0.2222222222222222,
              "#7201a8"
             ],
             [
              0.3333333333333333,
              "#9c179e"
             ],
             [
              0.4444444444444444,
              "#bd3786"
             ],
             [
              0.5555555555555556,
              "#d8576b"
             ],
             [
              0.6666666666666666,
              "#ed7953"
             ],
             [
              0.7777777777777778,
              "#fb9f3a"
             ],
             [
              0.8888888888888888,
              "#fdca26"
             ],
             [
              1,
              "#f0f921"
             ]
            ],
            "type": "contour"
           }
          ],
          "contourcarpet": [
           {
            "colorbar": {
             "outlinewidth": 0,
             "ticks": ""
            },
            "type": "contourcarpet"
           }
          ],
          "heatmap": [
           {
            "colorbar": {
             "outlinewidth": 0,
             "ticks": ""
            },
            "colorscale": [
             [
              0,
              "#0d0887"
             ],
             [
              0.1111111111111111,
              "#46039f"
             ],
             [
              0.2222222222222222,
              "#7201a8"
             ],
             [
              0.3333333333333333,
              "#9c179e"
             ],
             [
              0.4444444444444444,
              "#bd3786"
             ],
             [
              0.5555555555555556,
              "#d8576b"
             ],
             [
              0.6666666666666666,
              "#ed7953"
             ],
             [
              0.7777777777777778,
              "#fb9f3a"
             ],
             [
              0.8888888888888888,
              "#fdca26"
             ],
             [
              1,
              "#f0f921"
             ]
            ],
            "type": "heatmap"
           }
          ],
          "histogram": [
           {
            "marker": {
             "pattern": {
              "fillmode": "overlay",
              "size": 10,
              "solidity": 0.2
             }
            },
            "type": "histogram"
           }
          ],
          "histogram2d": [
           {
            "colorbar": {
             "outlinewidth": 0,
             "ticks": ""
            },
            "colorscale": [
             [
              0,
              "#0d0887"
             ],
             [
              0.1111111111111111,
              "#46039f"
             ],
             [
              0.2222222222222222,
              "#7201a8"
             ],
             [
              0.3333333333333333,
              "#9c179e"
             ],
             [
              0.4444444444444444,
              "#bd3786"
             ],
             [
              0.5555555555555556,
              "#d8576b"
             ],
             [
              0.6666666666666666,
              "#ed7953"
             ],
             [
              0.7777777777777778,
              "#fb9f3a"
             ],
             [
              0.8888888888888888,
              "#fdca26"
             ],
             [
              1,
              "#f0f921"
             ]
            ],
            "type": "histogram2d"
           }
          ],
          "histogram2dcontour": [
           {
            "colorbar": {
             "outlinewidth": 0,
             "ticks": ""
            },
            "colorscale": [
             [
              0,
              "#0d0887"
             ],
             [
              0.1111111111111111,
              "#46039f"
             ],
             [
              0.2222222222222222,
              "#7201a8"
             ],
             [
              0.3333333333333333,
              "#9c179e"
             ],
             [
              0.4444444444444444,
              "#bd3786"
             ],
             [
              0.5555555555555556,
              "#d8576b"
             ],
             [
              0.6666666666666666,
              "#ed7953"
             ],
             [
              0.7777777777777778,
              "#fb9f3a"
             ],
             [
              0.8888888888888888,
              "#fdca26"
             ],
             [
              1,
              "#f0f921"
             ]
            ],
            "type": "histogram2dcontour"
           }
          ],
          "mesh3d": [
           {
            "colorbar": {
             "outlinewidth": 0,
             "ticks": ""
            },
            "type": "mesh3d"
           }
          ],
          "parcoords": [
           {
            "line": {
             "colorbar": {
              "outlinewidth": 0,
              "ticks": ""
             }
            },
            "type": "parcoords"
           }
          ],
          "pie": [
           {
            "automargin": true,
            "type": "pie"
           }
          ],
          "scatter": [
           {
            "fillpattern": {
             "fillmode": "overlay",
             "size": 10,
             "solidity": 0.2
            },
            "type": "scatter"
           }
          ],
          "scatter3d": [
           {
            "line": {
             "colorbar": {
              "outlinewidth": 0,
              "ticks": ""
             }
            },
            "marker": {
             "colorbar": {
              "outlinewidth": 0,
              "ticks": ""
             }
            },
            "type": "scatter3d"
           }
          ],
          "scattercarpet": [
           {
            "marker": {
             "colorbar": {
              "outlinewidth": 0,
              "ticks": ""
             }
            },
            "type": "scattercarpet"
           }
          ],
          "scattergeo": [
           {
            "marker": {
             "colorbar": {
              "outlinewidth": 0,
              "ticks": ""
             }
            },
            "type": "scattergeo"
           }
          ],
          "scattergl": [
           {
            "marker": {
             "colorbar": {
              "outlinewidth": 0,
              "ticks": ""
             }
            },
            "type": "scattergl"
           }
          ],
          "scattermap": [
           {
            "marker": {
             "colorbar": {
              "outlinewidth": 0,
              "ticks": ""
             }
            },
            "type": "scattermap"
           }
          ],
          "scattermapbox": [
           {
            "marker": {
             "colorbar": {
              "outlinewidth": 0,
              "ticks": ""
             }
            },
            "type": "scattermapbox"
           }
          ],
          "scatterpolar": [
           {
            "marker": {
             "colorbar": {
              "outlinewidth": 0,
              "ticks": ""
             }
            },
            "type": "scatterpolar"
           }
          ],
          "scatterpolargl": [
           {
            "marker": {
             "colorbar": {
              "outlinewidth": 0,
              "ticks": ""
             }
            },
            "type": "scatterpolargl"
           }
          ],
          "scatterternary": [
           {
            "marker": {
             "colorbar": {
              "outlinewidth": 0,
              "ticks": ""
             }
            },
            "type": "scatterternary"
           }
          ],
          "surface": [
           {
            "colorbar": {
             "outlinewidth": 0,
             "ticks": ""
            },
            "colorscale": [
             [
              0,
              "#0d0887"
             ],
             [
              0.1111111111111111,
              "#46039f"
             ],
             [
              0.2222222222222222,
              "#7201a8"
             ],
             [
              0.3333333333333333,
              "#9c179e"
             ],
             [
              0.4444444444444444,
              "#bd3786"
             ],
             [
              0.5555555555555556,
              "#d8576b"
             ],
             [
              0.6666666666666666,
              "#ed7953"
             ],
             [
              0.7777777777777778,
              "#fb9f3a"
             ],
             [
              0.8888888888888888,
              "#fdca26"
             ],
             [
              1,
              "#f0f921"
             ]
            ],
            "type": "surface"
           }
          ],
          "table": [
           {
            "cells": {
             "fill": {
              "color": "#EBF0F8"
             },
             "line": {
              "color": "white"
             }
            },
            "header": {
             "fill": {
              "color": "#C8D4E3"
             },
             "line": {
              "color": "white"
             }
            },
            "type": "table"
           }
          ]
         },
         "layout": {
          "annotationdefaults": {
           "arrowcolor": "#2a3f5f",
           "arrowhead": 0,
           "arrowwidth": 1
          },
          "autotypenumbers": "strict",
          "coloraxis": {
           "colorbar": {
            "outlinewidth": 0,
            "ticks": ""
           }
          },
          "colorscale": {
           "diverging": [
            [
             0,
             "#8e0152"
            ],
            [
             0.1,
             "#c51b7d"
            ],
            [
             0.2,
             "#de77ae"
            ],
            [
             0.3,
             "#f1b6da"
            ],
            [
             0.4,
             "#fde0ef"
            ],
            [
             0.5,
             "#f7f7f7"
            ],
            [
             0.6,
             "#e6f5d0"
            ],
            [
             0.7,
             "#b8e186"
            ],
            [
             0.8,
             "#7fbc41"
            ],
            [
             0.9,
             "#4d9221"
            ],
            [
             1,
             "#276419"
            ]
           ],
           "sequential": [
            [
             0,
             "#0d0887"
            ],
            [
             0.1111111111111111,
             "#46039f"
            ],
            [
             0.2222222222222222,
             "#7201a8"
            ],
            [
             0.3333333333333333,
             "#9c179e"
            ],
            [
             0.4444444444444444,
             "#bd3786"
            ],
            [
             0.5555555555555556,
             "#d8576b"
            ],
            [
             0.6666666666666666,
             "#ed7953"
            ],
            [
             0.7777777777777778,
             "#fb9f3a"
            ],
            [
             0.8888888888888888,
             "#fdca26"
            ],
            [
             1,
             "#f0f921"
            ]
           ],
           "sequentialminus": [
            [
             0,
             "#0d0887"
            ],
            [
             0.1111111111111111,
             "#46039f"
            ],
            [
             0.2222222222222222,
             "#7201a8"
            ],
            [
             0.3333333333333333,
             "#9c179e"
            ],
            [
             0.4444444444444444,
             "#bd3786"
            ],
            [
             0.5555555555555556,
             "#d8576b"
            ],
            [
             0.6666666666666666,
             "#ed7953"
            ],
            [
             0.7777777777777778,
             "#fb9f3a"
            ],
            [
             0.8888888888888888,
             "#fdca26"
            ],
            [
             1,
             "#f0f921"
            ]
           ]
          },
          "colorway": [
           "#636efa",
           "#EF553B",
           "#00cc96",
           "#ab63fa",
           "#FFA15A",
           "#19d3f3",
           "#FF6692",
           "#B6E880",
           "#FF97FF",
           "#FECB52"
          ],
          "font": {
           "color": "#2a3f5f"
          },
          "geo": {
           "bgcolor": "white",
           "lakecolor": "white",
           "landcolor": "#E5ECF6",
           "showlakes": true,
           "showland": true,
           "subunitcolor": "white"
          },
          "hoverlabel": {
           "align": "left"
          },
          "hovermode": "closest",
          "mapbox": {
           "style": "light"
          },
          "paper_bgcolor": "white",
          "plot_bgcolor": "#E5ECF6",
          "polar": {
           "angularaxis": {
            "gridcolor": "white",
            "linecolor": "white",
            "ticks": ""
           },
           "bgcolor": "#E5ECF6",
           "radialaxis": {
            "gridcolor": "white",
            "linecolor": "white",
            "ticks": ""
           }
          },
          "scene": {
           "xaxis": {
            "backgroundcolor": "#E5ECF6",
            "gridcolor": "white",
            "gridwidth": 2,
            "linecolor": "white",
            "showbackground": true,
            "ticks": "",
            "zerolinecolor": "white"
           },
           "yaxis": {
            "backgroundcolor": "#E5ECF6",
            "gridcolor": "white",
            "gridwidth": 2,
            "linecolor": "white",
            "showbackground": true,
            "ticks": "",
            "zerolinecolor": "white"
           },
           "zaxis": {
            "backgroundcolor": "#E5ECF6",
            "gridcolor": "white",
            "gridwidth": 2,
            "linecolor": "white",
            "showbackground": true,
            "ticks": "",
            "zerolinecolor": "white"
           }
          },
          "shapedefaults": {
           "line": {
            "color": "#2a3f5f"
           }
          },
          "ternary": {
           "aaxis": {
            "gridcolor": "white",
            "linecolor": "white",
            "ticks": ""
           },
           "baxis": {
            "gridcolor": "white",
            "linecolor": "white",
            "ticks": ""
           },
           "bgcolor": "#E5ECF6",
           "caxis": {
            "gridcolor": "white",
            "linecolor": "white",
            "ticks": ""
           }
          },
          "title": {
           "x": 0.05
          },
          "xaxis": {
           "automargin": true,
           "gridcolor": "white",
           "linecolor": "white",
           "ticks": "",
           "title": {
            "standoff": 15
           },
           "zerolinecolor": "white",
           "zerolinewidth": 2
          },
          "yaxis": {
           "automargin": true,
           "gridcolor": "white",
           "linecolor": "white",
           "ticks": "",
           "title": {
            "standoff": 15
           },
           "zerolinecolor": "white",
           "zerolinewidth": 2
          }
         }
        },
        "xaxis": {
         "anchor": "y",
         "domain": [
          0,
          1
         ],
         "title": {
          "text": "IMDB_Rating"
         }
        },
        "yaxis": {
         "anchor": "x",
         "domain": [
          0,
          1
         ],
         "title": {
          "text": "Gross"
         }
        }
       }
      }
     },
     "metadata": {},
     "output_type": "display_data"
    }
   ],
   "source": [
    "\n",
    "fig = px.scatter(df, x='IMDB_Rating', y='Gross', color='Certificate', hover_data=['Series_Title'])\n",
    "fig.show()"
   ]
  }
 ],
 "metadata": {
  "kernelspec": {
   "display_name": "Python 3",
   "language": "python",
   "name": "python3"
  },
  "language_info": {
   "codemirror_mode": {
    "name": "ipython",
    "version": 3
   },
   "file_extension": ".py",
   "mimetype": "text/x-python",
   "name": "python",
   "nbconvert_exporter": "python",
   "pygments_lexer": "ipython3",
   "version": "3.11.9"
  }
 },
 "nbformat": 4,
 "nbformat_minor": 2
}
